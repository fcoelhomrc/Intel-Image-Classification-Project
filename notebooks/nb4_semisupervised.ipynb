{
 "cells": [
  {
   "cell_type": "code",
   "execution_count": 1,
   "metadata": {},
   "outputs": [
    {
     "name": "stderr",
     "output_type": "stream",
     "text": [
      "c:\\Users\\fcoel\\miniconda3\\envs\\apc-project\\lib\\site-packages\\scipy\\__init__.py:146: UserWarning: A NumPy version >=1.16.5 and <1.23.0 is required for this version of SciPy (detected version 1.23.4\n",
      "  warnings.warn(f\"A NumPy version >={np_minversion} and <{np_maxversion}\"\n"
     ]
    }
   ],
   "source": [
    "import os, glob, pickle\n",
    "\n",
    "import numpy as np\n",
    "import pandas as pd\n",
    "\n",
    "import matplotlib.pyplot as plt\n",
    "import seaborn as sns\n",
    "import seaborn_image as isns\n",
    "from PIL import Image\n",
    "\n",
    "## Feature extraction\n",
    "from keras_preprocessing.image import ImageDataGenerator\n",
    "import tensorflow as tf\n",
    "from tensorflow.keras.applications.resnet_v2 import ResNet50V2\n",
    "from keras.layers import Dense, Flatten, Input, Activation\n",
    "from tensorflow.keras.callbacks import ModelCheckpoint\n",
    "from tensorflow.keras import mixed_precision\n",
    "import IPython"
   ]
  },
  {
   "attachments": {},
   "cell_type": "markdown",
   "metadata": {},
   "source": [
    "First step is to generate embeddings for unlabelled data"
   ]
  },
  {
   "cell_type": "code",
   "execution_count": 2,
   "metadata": {},
   "outputs": [
    {
     "name": "stdout",
     "output_type": "stream",
     "text": [
      "Loading unlabelled data...\n",
      "Example: ../data/seg_pred\\10004.jpg\n",
      "Found 21335 validated image filenames belonging to 7 classes.\n",
      "Found 3000 validated image filenames belonging to 6 classes.\n"
     ]
    }
   ],
   "source": [
    "# Building Training and Validation Dataframes\n",
    "labels = ['buildings', 'forest', 'glacier', 'mountain', 'sea', 'street']\n",
    "\n",
    "def dataframer(base_dir, include_unlabelled=False):\n",
    "    path = []\n",
    "    label = []\n",
    "    for img_class in os.listdir(base_dir):\n",
    "        label_path = os.path.join(base_dir, img_class)\n",
    "        if img_class in labels:\n",
    "            for img in os.listdir(label_path):\n",
    "                path.append(os.path.join(label_path, img))\n",
    "                label.append(img_class)\n",
    "    \n",
    "    if include_unlabelled:\n",
    "        print(\"Loading unlabelled data...\")\n",
    "        c = 0\n",
    "        for tag in os.listdir(\"../data/seg_pred\"):\n",
    "\n",
    "            img_path = os.path.join(\"../data/seg_pred\", tag)\n",
    "\n",
    "            if c < 1:\n",
    "                print(f\"Example: {img_path}\")\n",
    "                c += 1\n",
    "\n",
    "            path.append(img_path)\n",
    "            label.append('-1') \n",
    "\n",
    "    img_data = pd.DataFrame({'Path': path, 'Label': label})\n",
    "    return img_data\n",
    "\n",
    "train_base_dir = \"../data/seg_train\"\n",
    "validation_base_dir = \"../data/seg_test\"\n",
    "\n",
    "train_img_data = dataframer(train_base_dir, include_unlabelled=True)\n",
    "validation_img_data = dataframer(validation_base_dir)\n",
    "\n",
    "target_size = (150, 150)\n",
    "\n",
    "\n",
    "def preprocessing(arr):\n",
    "    arr = tf.image.rgb_to_grayscale(arr)\n",
    "    arr = tf.image.resize(arr, target_size)\n",
    "    return arr\n",
    "\n",
    "# Data Augmentation\n",
    "train_datagen = ImageDataGenerator(\n",
    "    rescale = 1/255,\n",
    "    preprocessing_function=preprocessing\n",
    ")\n",
    "\n",
    "validation_datagen = ImageDataGenerator(\n",
    "    rescale = 1/255\n",
    ")\n",
    "\n",
    "# Generating Batches of the Augmented Data:\n",
    "batch_size = 360\n",
    "\n",
    "train_generator = train_datagen.flow_from_dataframe(\n",
    "    dataframe=train_img_data,\n",
    "    x_col=\"Path\",\n",
    "    y_col=\"Label\",\n",
    "    target_size=target_size,\n",
    "    batch_size=batch_size,\n",
    "    class_mode=\"categorical\",\n",
    "    subset=\"training\",\n",
    "    shuffle=False,\n",
    "    seed=10)\n",
    "\n",
    "validation_generator = validation_datagen.flow_from_dataframe(\n",
    "    dataframe=validation_img_data,\n",
    "    x_col=\"Path\",\n",
    "    y_col=\"Label\",\n",
    "    target_size=target_size,\n",
    "    batch_size=batch_size,\n",
    "    class_mode=\"categorical\",\n",
    "    shuffle=False)\n",
    "\n",
    "# Build Model\n",
    "resnet = ResNet50V2(include_top=False, pooling='avg')\n",
    "resnet.trainable = False # Let's start with frozen resnet weights and train just the dense\n",
    "\n",
    "# Compile the model\n",
    "resnet.compile(optimizer='adam', loss=\"categorical_crossentropy\", metrics=[\"accuracy\"])"
   ]
  },
  {
   "cell_type": "code",
   "execution_count": 3,
   "metadata": {},
   "outputs": [],
   "source": [
    "from sklearn import preprocessing\n",
    "\n",
    "le = preprocessing.LabelEncoder()\n",
    "train_labels = le.fit_transform(train_img_data[\"Label\"])\n",
    "validation_labels = le.transform(validation_img_data[\"Label\"])\n",
    "\n",
    "cats = le.inverse_transform([0, 1, 2, 3, 4, 5, 6])\n",
    "\n",
    "with open(\"../models/semisup_labels.pickle\", \"wb\") as handle:\n",
    "    labels = {\"train\": train_labels, \"validation\": validation_labels, \"categorical\": cats}\n",
    "    pickle.dump(labels, handle, protocol=pickle.HIGHEST_PROTOCOL)"
   ]
  },
  {
   "cell_type": "code",
   "execution_count": 4,
   "metadata": {},
   "outputs": [
    {
     "data": {
      "text/plain": [
       "array(['-1', 'buildings', 'forest', 'glacier', 'mountain', 'sea',\n",
       "       'street'], dtype=object)"
      ]
     },
     "execution_count": 4,
     "metadata": {},
     "output_type": "execute_result"
    }
   ],
   "source": [
    "cats"
   ]
  },
  {
   "cell_type": "code",
   "execution_count": null,
   "metadata": {},
   "outputs": [
    {
     "name": "stdout",
     "output_type": "stream",
     "text": [
      "60/60 [==============================] - 331s 5s/step\n",
      "9/9 [==============================] - 45s 5s/step\n"
     ]
    }
   ],
   "source": [
    "def extract_features(model, data_gen):\n",
    "\n",
    "    features = model.predict(data_gen)\n",
    "\n",
    "    return features\n",
    "\n",
    "\n",
    "train_feats = extract_features(resnet, train_generator)\n",
    "validation_feats = extract_features(resnet, validation_generator)"
   ]
  },
  {
   "cell_type": "code",
   "execution_count": null,
   "metadata": {},
   "outputs": [],
   "source": [
    "# with open('../models/semisup_embedding_train.pickle', 'wb') as handle:\n",
    "#     pickle.dump(train_feats, handle, protocol=pickle.HIGHEST_PROTOCOL)\n",
    "\n",
    "# with open('../models/semisup_embedding_validation.pickle', 'wb') as handle:\n",
    "#     pickle.dump(validation_feats, handle, protocol=pickle.HIGHEST_PROTOCOL)"
   ]
  },
  {
   "cell_type": "code",
   "execution_count": 5,
   "metadata": {},
   "outputs": [],
   "source": [
    "with open('../models/semisup_embedding_train.pickle', 'rb') as handle:\n",
    "    train_feats = pickle.load(handle)\n",
    "\n",
    "with open('../models/semisup_embedding_validation.pickle', 'rb') as handle:\n",
    "    validation_feats = pickle.load(handle)"
   ]
  },
  {
   "attachments": {},
   "cell_type": "markdown",
   "metadata": {},
   "source": [
    "The unlabelled images need to have a virtual label index of -1, as instructed by `sckit-learn`.\n",
    "\n",
    "At this point, we have all the embeddings stored (only need to load them with the above cell), but we still need to enforce above convetion on label values."
   ]
  },
  {
   "cell_type": "code",
   "execution_count": 6,
   "metadata": {},
   "outputs": [],
   "source": [
    "# Correct labelling \n",
    "train_labels = train_labels - 1\n",
    "validation_labels = validation_labels - 1"
   ]
  },
  {
   "cell_type": "code",
   "execution_count": 7,
   "metadata": {},
   "outputs": [
    {
     "data": {
      "text/plain": [
       "(21335, 2048)"
      ]
     },
     "execution_count": 7,
     "metadata": {},
     "output_type": "execute_result"
    }
   ],
   "source": [
    "train_feats.shape"
   ]
  },
  {
   "cell_type": "code",
   "execution_count": 8,
   "metadata": {},
   "outputs": [
    {
     "data": {
      "text/plain": [
       "(21335,)"
      ]
     },
     "execution_count": 8,
     "metadata": {},
     "output_type": "execute_result"
    }
   ],
   "source": [
    "train_labels.shape"
   ]
  },
  {
   "cell_type": "code",
   "execution_count": 9,
   "metadata": {},
   "outputs": [
    {
     "data": {
      "text/plain": [
       "(3000, 2048)"
      ]
     },
     "execution_count": 9,
     "metadata": {},
     "output_type": "execute_result"
    }
   ],
   "source": [
    "validation_feats.shape"
   ]
  },
  {
   "cell_type": "code",
   "execution_count": 10,
   "metadata": {},
   "outputs": [
    {
     "data": {
      "text/plain": [
       "(3000,)"
      ]
     },
     "execution_count": 10,
     "metadata": {},
     "output_type": "execute_result"
    }
   ],
   "source": [
    "validation_labels.shape"
   ]
  },
  {
   "attachments": {},
   "cell_type": "markdown",
   "metadata": {},
   "source": [
    "Choose only same models used for ensemble:\n",
    "\n",
    "1. k-Nearest Neighbours\n",
    "2. Logistic Regression\n",
    "3. Huber Loss Classifier (SGD + Modified Hubber Loss)\n",
    "\n",
    "Apply probability calibration, as instructed in the API:\n",
    "- [Semi-supervised learning](https://scikit-learn.org/stable/modules/semi_supervised.html#id4)\n",
    "- [Probability calibration](https://scikit-learn.org/stable/modules/calibration.html#calibration)\n",
    "- [Probability calibration example](https://scikit-learn.org/stable/auto_examples/calibration/plot_calibration_multiclass.html#sphx-glr-auto-examples-calibration-plot-calibration-multiclass-py)"
   ]
  },
  {
   "cell_type": "code",
   "execution_count": 11,
   "metadata": {},
   "outputs": [],
   "source": [
    "from sklearn.model_selection import train_test_split\n",
    "from sklearn.calibration import CalibratedClassifierCV\n",
    "from sklearn.neighbors import KNeighborsClassifier\n",
    "\n",
    "knn = KNeighborsClassifier(n_neighbors=10, leaf_size=15)"
   ]
  },
  {
   "cell_type": "code",
   "execution_count": 15,
   "metadata": {},
   "outputs": [
    {
     "data": {
      "text/html": [
       "<style>#sk-container-id-2 {color: black;background-color: white;}#sk-container-id-2 pre{padding: 0;}#sk-container-id-2 div.sk-toggleable {background-color: white;}#sk-container-id-2 label.sk-toggleable__label {cursor: pointer;display: block;width: 100%;margin-bottom: 0;padding: 0.3em;box-sizing: border-box;text-align: center;}#sk-container-id-2 label.sk-toggleable__label-arrow:before {content: \"▸\";float: left;margin-right: 0.25em;color: #696969;}#sk-container-id-2 label.sk-toggleable__label-arrow:hover:before {color: black;}#sk-container-id-2 div.sk-estimator:hover label.sk-toggleable__label-arrow:before {color: black;}#sk-container-id-2 div.sk-toggleable__content {max-height: 0;max-width: 0;overflow: hidden;text-align: left;background-color: #f0f8ff;}#sk-container-id-2 div.sk-toggleable__content pre {margin: 0.2em;color: black;border-radius: 0.25em;background-color: #f0f8ff;}#sk-container-id-2 input.sk-toggleable__control:checked~div.sk-toggleable__content {max-height: 200px;max-width: 100%;overflow: auto;}#sk-container-id-2 input.sk-toggleable__control:checked~label.sk-toggleable__label-arrow:before {content: \"▾\";}#sk-container-id-2 div.sk-estimator input.sk-toggleable__control:checked~label.sk-toggleable__label {background-color: #d4ebff;}#sk-container-id-2 div.sk-label input.sk-toggleable__control:checked~label.sk-toggleable__label {background-color: #d4ebff;}#sk-container-id-2 input.sk-hidden--visually {border: 0;clip: rect(1px 1px 1px 1px);clip: rect(1px, 1px, 1px, 1px);height: 1px;margin: -1px;overflow: hidden;padding: 0;position: absolute;width: 1px;}#sk-container-id-2 div.sk-estimator {font-family: monospace;background-color: #f0f8ff;border: 1px dotted black;border-radius: 0.25em;box-sizing: border-box;margin-bottom: 0.5em;}#sk-container-id-2 div.sk-estimator:hover {background-color: #d4ebff;}#sk-container-id-2 div.sk-parallel-item::after {content: \"\";width: 100%;border-bottom: 1px solid gray;flex-grow: 1;}#sk-container-id-2 div.sk-label:hover label.sk-toggleable__label {background-color: #d4ebff;}#sk-container-id-2 div.sk-serial::before {content: \"\";position: absolute;border-left: 1px solid gray;box-sizing: border-box;top: 0;bottom: 0;left: 50%;z-index: 0;}#sk-container-id-2 div.sk-serial {display: flex;flex-direction: column;align-items: center;background-color: white;padding-right: 0.2em;padding-left: 0.2em;position: relative;}#sk-container-id-2 div.sk-item {position: relative;z-index: 1;}#sk-container-id-2 div.sk-parallel {display: flex;align-items: stretch;justify-content: center;background-color: white;position: relative;}#sk-container-id-2 div.sk-item::before, #sk-container-id-2 div.sk-parallel-item::before {content: \"\";position: absolute;border-left: 1px solid gray;box-sizing: border-box;top: 0;bottom: 0;left: 50%;z-index: -1;}#sk-container-id-2 div.sk-parallel-item {display: flex;flex-direction: column;z-index: 1;position: relative;background-color: white;}#sk-container-id-2 div.sk-parallel-item:first-child::after {align-self: flex-end;width: 50%;}#sk-container-id-2 div.sk-parallel-item:last-child::after {align-self: flex-start;width: 50%;}#sk-container-id-2 div.sk-parallel-item:only-child::after {width: 0;}#sk-container-id-2 div.sk-dashed-wrapped {border: 1px dashed gray;margin: 0 0.4em 0.5em 0.4em;box-sizing: border-box;padding-bottom: 0.4em;background-color: white;}#sk-container-id-2 div.sk-label label {font-family: monospace;font-weight: bold;display: inline-block;line-height: 1.2em;}#sk-container-id-2 div.sk-label-container {text-align: center;}#sk-container-id-2 div.sk-container {/* jupyter's `normalize.less` sets `[hidden] { display: none; }` but bootstrap.min.css set `[hidden] { display: none !important; }` so we also need the `!important` here to be able to override the default hidden behavior on the sphinx rendered scikit-learn.org. See: https://github.com/scikit-learn/scikit-learn/issues/21755 */display: inline-block !important;position: relative;}#sk-container-id-2 div.sk-text-repr-fallback {display: none;}</style><div id=\"sk-container-id-2\" class=\"sk-top-container\"><div class=\"sk-text-repr-fallback\"><pre>CalibratedClassifierCV(base_estimator=KNeighborsClassifier(leaf_size=15,\n",
       "                                                           n_neighbors=10),\n",
       "                       cv=&#x27;prefit&#x27;)</pre><b>In a Jupyter environment, please rerun this cell to show the HTML representation or trust the notebook. <br />On GitHub, the HTML representation is unable to render, please try loading this page with nbviewer.org.</b></div><div class=\"sk-container\" hidden><div class=\"sk-item sk-dashed-wrapped\"><div class=\"sk-label-container\"><div class=\"sk-label sk-toggleable\"><input class=\"sk-toggleable__control sk-hidden--visually\" id=\"sk-estimator-id-4\" type=\"checkbox\" ><label for=\"sk-estimator-id-4\" class=\"sk-toggleable__label sk-toggleable__label-arrow\">CalibratedClassifierCV</label><div class=\"sk-toggleable__content\"><pre>CalibratedClassifierCV(base_estimator=KNeighborsClassifier(leaf_size=15,\n",
       "                                                           n_neighbors=10),\n",
       "                       cv=&#x27;prefit&#x27;)</pre></div></div></div><div class=\"sk-parallel\"><div class=\"sk-parallel-item\"><div class=\"sk-item\"><div class=\"sk-label-container\"><div class=\"sk-label sk-toggleable\"><input class=\"sk-toggleable__control sk-hidden--visually\" id=\"sk-estimator-id-5\" type=\"checkbox\" ><label for=\"sk-estimator-id-5\" class=\"sk-toggleable__label sk-toggleable__label-arrow\">base_estimator: KNeighborsClassifier</label><div class=\"sk-toggleable__content\"><pre>KNeighborsClassifier(leaf_size=15, n_neighbors=10)</pre></div></div></div><div class=\"sk-serial\"><div class=\"sk-item\"><div class=\"sk-estimator sk-toggleable\"><input class=\"sk-toggleable__control sk-hidden--visually\" id=\"sk-estimator-id-6\" type=\"checkbox\" ><label for=\"sk-estimator-id-6\" class=\"sk-toggleable__label sk-toggleable__label-arrow\">KNeighborsClassifier</label><div class=\"sk-toggleable__content\"><pre>KNeighborsClassifier(leaf_size=15, n_neighbors=10)</pre></div></div></div></div></div></div></div></div></div></div>"
      ],
      "text/plain": [
       "CalibratedClassifierCV(base_estimator=KNeighborsClassifier(leaf_size=15,\n",
       "                                                           n_neighbors=10),\n",
       "                       cv='prefit')"
      ]
     },
     "execution_count": 15,
     "metadata": {},
     "output_type": "execute_result"
    }
   ],
   "source": [
    "# Remove unlabelled data\n",
    "to_include_idx = train_labels >= 0\n",
    "train_labels_cut = train_labels[to_include_idx]\n",
    "train_feats_cut = train_feats[to_include_idx]\n",
    "\n",
    "# X1, X2, y1, y2 = train_test_split(train_feats_cut, train_labels_cut, test_size=0.3, random_state=42)\n",
    "X1, X2, y1, y2 = train_test_split(train_feats, train_labels, test_size=0.2, random_state=42)\n",
    "\n",
    "# Train without calibration\n",
    "knn.fit(X1, y1)\n",
    "\n",
    "# Train with calibration\n",
    "cal_knn = CalibratedClassifierCV(knn, method=\"sigmoid\", cv=\"prefit\")\n",
    "cal_knn.fit(X2, y2)"
   ]
  },
  {
   "cell_type": "code",
   "execution_count": 16,
   "metadata": {},
   "outputs": [],
   "source": [
    "knn_proba = knn.predict_proba(validation_feats)\n",
    "cal_knn_proba = cal_knn.predict_proba(validation_feats)"
   ]
  },
  {
   "cell_type": "code",
   "execution_count": 17,
   "metadata": {},
   "outputs": [
    {
     "data": {
      "text/plain": [
       "array([[0.4, 0.6, 0. , ..., 0. , 0. , 0. ],\n",
       "       [0.2, 0.7, 0. , ..., 0. , 0. , 0.1],\n",
       "       [0.5, 0.5, 0. , ..., 0. , 0. , 0. ],\n",
       "       ...,\n",
       "       [0.3, 0. , 0. , ..., 0.4, 0.3, 0. ],\n",
       "       [0.6, 0.2, 0. , ..., 0. , 0. , 0.2],\n",
       "       [0.4, 0.1, 0. , ..., 0. , 0. , 0.5]])"
      ]
     },
     "execution_count": 17,
     "metadata": {},
     "output_type": "execute_result"
    }
   ],
   "source": [
    "knn_proba"
   ]
  },
  {
   "cell_type": "code",
   "execution_count": 18,
   "metadata": {},
   "outputs": [
    {
     "data": {
      "text/plain": [
       "array([[0.35271729, 0.53927168, 0.01322026, ..., 0.02654471, 0.02264508,\n",
       "        0.01923114],\n",
       "       [0.29178878, 0.60061778, 0.01112748, ..., 0.02234265, 0.01906034,\n",
       "        0.03286751],\n",
       "       [0.43206871, 0.43675306, 0.01605586, ..., 0.03223826, 0.02750221,\n",
       "        0.02335601],\n",
       "       ...,\n",
       "       [0.403742  , 0.01754102, 0.01526393, ..., 0.30979058, 0.20101223,\n",
       "        0.022204  ],\n",
       "       [0.6122928 , 0.10358306, 0.02255923, ..., 0.04529625, 0.03864188,\n",
       "        0.13262892],\n",
       "       [0.38954032, 0.03379483, 0.01460043, ..., 0.02931593, 0.02500918,\n",
       "        0.4786165 ]])"
      ]
     },
     "execution_count": 18,
     "metadata": {},
     "output_type": "execute_result"
    }
   ],
   "source": [
    "cal_knn_proba"
   ]
  },
  {
   "attachments": {},
   "cell_type": "markdown",
   "metadata": {},
   "source": [
    "Perform semi-supervised training"
   ]
  },
  {
   "cell_type": "code",
   "execution_count": 36,
   "metadata": {},
   "outputs": [],
   "source": [
    "from sklearn.semi_supervised import SelfTrainingClassifier\n",
    "from sklearn.calibration import CalibratedClassifierCV\n",
    "from sklearn.neighbors import KNeighborsClassifier\n",
    "from sklearn.linear_model import SGDClassifier\n",
    "from sklearn.ensemble import VotingClassifier"
   ]
  },
  {
   "cell_type": "code",
   "execution_count": 37,
   "metadata": {},
   "outputs": [],
   "source": [
    "logreg = SGDClassifier(alpha=0.019323822134521308, loss='log_loss')\n",
    "huber = SGDClassifier(alpha=0.26007184302607766, loss='modified_huber')\n",
    "knn = KNeighborsClassifier(leaf_size=15, n_neighbors=10, weights='distance')\n",
    "\n",
    "cal_huber = CalibratedClassifierCV(huber, method=\"sigmoid\", cv=5)\n",
    "cal_knn = CalibratedClassifierCV(knn, method=\"sigmoid\", cv=5)"
   ]
  },
  {
   "cell_type": "code",
   "execution_count": 38,
   "metadata": {},
   "outputs": [],
   "source": [
    "models = [\n",
    "    logreg,\n",
    "    cal_huber,\n",
    "    cal_knn\n",
    "]\n",
    "\n",
    "names = [\"logistic_reg\", \"huber_loss\", \"knn\"]\n",
    "\n",
    "ensemble_model = VotingClassifier(estimators=list(zip(names, models)),\n",
    "                                  voting=\"soft\", weights=[2, 2, 1])\n"
   ]
  },
  {
   "cell_type": "code",
   "execution_count": 39,
   "metadata": {},
   "outputs": [],
   "source": [
    "self_training_model = SelfTrainingClassifier(ensemble_model)"
   ]
  },
  {
   "cell_type": "code",
   "execution_count": 40,
   "metadata": {},
   "outputs": [
    {
     "data": {
      "text/html": [
       "<style>#sk-container-id-5 {color: black;background-color: white;}#sk-container-id-5 pre{padding: 0;}#sk-container-id-5 div.sk-toggleable {background-color: white;}#sk-container-id-5 label.sk-toggleable__label {cursor: pointer;display: block;width: 100%;margin-bottom: 0;padding: 0.3em;box-sizing: border-box;text-align: center;}#sk-container-id-5 label.sk-toggleable__label-arrow:before {content: \"▸\";float: left;margin-right: 0.25em;color: #696969;}#sk-container-id-5 label.sk-toggleable__label-arrow:hover:before {color: black;}#sk-container-id-5 div.sk-estimator:hover label.sk-toggleable__label-arrow:before {color: black;}#sk-container-id-5 div.sk-toggleable__content {max-height: 0;max-width: 0;overflow: hidden;text-align: left;background-color: #f0f8ff;}#sk-container-id-5 div.sk-toggleable__content pre {margin: 0.2em;color: black;border-radius: 0.25em;background-color: #f0f8ff;}#sk-container-id-5 input.sk-toggleable__control:checked~div.sk-toggleable__content {max-height: 200px;max-width: 100%;overflow: auto;}#sk-container-id-5 input.sk-toggleable__control:checked~label.sk-toggleable__label-arrow:before {content: \"▾\";}#sk-container-id-5 div.sk-estimator input.sk-toggleable__control:checked~label.sk-toggleable__label {background-color: #d4ebff;}#sk-container-id-5 div.sk-label input.sk-toggleable__control:checked~label.sk-toggleable__label {background-color: #d4ebff;}#sk-container-id-5 input.sk-hidden--visually {border: 0;clip: rect(1px 1px 1px 1px);clip: rect(1px, 1px, 1px, 1px);height: 1px;margin: -1px;overflow: hidden;padding: 0;position: absolute;width: 1px;}#sk-container-id-5 div.sk-estimator {font-family: monospace;background-color: #f0f8ff;border: 1px dotted black;border-radius: 0.25em;box-sizing: border-box;margin-bottom: 0.5em;}#sk-container-id-5 div.sk-estimator:hover {background-color: #d4ebff;}#sk-container-id-5 div.sk-parallel-item::after {content: \"\";width: 100%;border-bottom: 1px solid gray;flex-grow: 1;}#sk-container-id-5 div.sk-label:hover label.sk-toggleable__label {background-color: #d4ebff;}#sk-container-id-5 div.sk-serial::before {content: \"\";position: absolute;border-left: 1px solid gray;box-sizing: border-box;top: 0;bottom: 0;left: 50%;z-index: 0;}#sk-container-id-5 div.sk-serial {display: flex;flex-direction: column;align-items: center;background-color: white;padding-right: 0.2em;padding-left: 0.2em;position: relative;}#sk-container-id-5 div.sk-item {position: relative;z-index: 1;}#sk-container-id-5 div.sk-parallel {display: flex;align-items: stretch;justify-content: center;background-color: white;position: relative;}#sk-container-id-5 div.sk-item::before, #sk-container-id-5 div.sk-parallel-item::before {content: \"\";position: absolute;border-left: 1px solid gray;box-sizing: border-box;top: 0;bottom: 0;left: 50%;z-index: -1;}#sk-container-id-5 div.sk-parallel-item {display: flex;flex-direction: column;z-index: 1;position: relative;background-color: white;}#sk-container-id-5 div.sk-parallel-item:first-child::after {align-self: flex-end;width: 50%;}#sk-container-id-5 div.sk-parallel-item:last-child::after {align-self: flex-start;width: 50%;}#sk-container-id-5 div.sk-parallel-item:only-child::after {width: 0;}#sk-container-id-5 div.sk-dashed-wrapped {border: 1px dashed gray;margin: 0 0.4em 0.5em 0.4em;box-sizing: border-box;padding-bottom: 0.4em;background-color: white;}#sk-container-id-5 div.sk-label label {font-family: monospace;font-weight: bold;display: inline-block;line-height: 1.2em;}#sk-container-id-5 div.sk-label-container {text-align: center;}#sk-container-id-5 div.sk-container {/* jupyter's `normalize.less` sets `[hidden] { display: none; }` but bootstrap.min.css set `[hidden] { display: none !important; }` so we also need the `!important` here to be able to override the default hidden behavior on the sphinx rendered scikit-learn.org. See: https://github.com/scikit-learn/scikit-learn/issues/21755 */display: inline-block !important;position: relative;}#sk-container-id-5 div.sk-text-repr-fallback {display: none;}</style><div id=\"sk-container-id-5\" class=\"sk-top-container\"><div class=\"sk-text-repr-fallback\"><pre>SelfTrainingClassifier(base_estimator=VotingClassifier(estimators=[(&#x27;logistic_reg&#x27;,\n",
       "                                                                    SGDClassifier(alpha=0.019323822134521308,\n",
       "                                                                                  loss=&#x27;log_loss&#x27;)),\n",
       "                                                                   (&#x27;huber_loss&#x27;,\n",
       "                                                                    CalibratedClassifierCV(base_estimator=SGDClassifier(alpha=0.26007184302607766,\n",
       "                                                                                                                        loss=&#x27;modified_huber&#x27;),\n",
       "                                                                                           cv=5)),\n",
       "                                                                   (&#x27;knn&#x27;,\n",
       "                                                                    CalibratedClassifierCV(base_estimator=KNeighborsClassifier(leaf_size=15,\n",
       "                                                                                                                               n_neighbors=10,\n",
       "                                                                                                                               weights=&#x27;distance&#x27;),\n",
       "                                                                                           cv=5))],\n",
       "                                                       voting=&#x27;soft&#x27;,\n",
       "                                                       weights=[2, 2, 1]))</pre><b>In a Jupyter environment, please rerun this cell to show the HTML representation or trust the notebook. <br />On GitHub, the HTML representation is unable to render, please try loading this page with nbviewer.org.</b></div><div class=\"sk-container\" hidden><div class=\"sk-item sk-dashed-wrapped\"><div class=\"sk-label-container\"><div class=\"sk-label sk-toggleable\"><input class=\"sk-toggleable__control sk-hidden--visually\" id=\"sk-estimator-id-19\" type=\"checkbox\" ><label for=\"sk-estimator-id-19\" class=\"sk-toggleable__label sk-toggleable__label-arrow\">SelfTrainingClassifier</label><div class=\"sk-toggleable__content\"><pre>SelfTrainingClassifier(base_estimator=VotingClassifier(estimators=[(&#x27;logistic_reg&#x27;,\n",
       "                                                                    SGDClassifier(alpha=0.019323822134521308,\n",
       "                                                                                  loss=&#x27;log_loss&#x27;)),\n",
       "                                                                   (&#x27;huber_loss&#x27;,\n",
       "                                                                    CalibratedClassifierCV(base_estimator=SGDClassifier(alpha=0.26007184302607766,\n",
       "                                                                                                                        loss=&#x27;modified_huber&#x27;),\n",
       "                                                                                           cv=5)),\n",
       "                                                                   (&#x27;knn&#x27;,\n",
       "                                                                    CalibratedClassifierCV(base_estimator=KNeighborsClassifier(leaf_size=15,\n",
       "                                                                                                                               n_neighbors=10,\n",
       "                                                                                                                               weights=&#x27;distance&#x27;),\n",
       "                                                                                           cv=5))],\n",
       "                                                       voting=&#x27;soft&#x27;,\n",
       "                                                       weights=[2, 2, 1]))</pre></div></div></div><div class=\"sk-parallel\"><div class=\"sk-parallel-item\"><div class=\"sk-item\"><div class=\"sk-label-container\"><div class=\"sk-label sk-toggleable\"><input class=\"sk-toggleable__control sk-hidden--visually\" id=\"sk-estimator-id-20\" type=\"checkbox\" ><label for=\"sk-estimator-id-20\" class=\"sk-toggleable__label sk-toggleable__label-arrow\">base_estimator: VotingClassifier</label><div class=\"sk-toggleable__content\"><pre>VotingClassifier(estimators=[(&#x27;logistic_reg&#x27;,\n",
       "                              SGDClassifier(alpha=0.019323822134521308,\n",
       "                                            loss=&#x27;log_loss&#x27;)),\n",
       "                             (&#x27;huber_loss&#x27;,\n",
       "                              CalibratedClassifierCV(base_estimator=SGDClassifier(alpha=0.26007184302607766,\n",
       "                                                                                  loss=&#x27;modified_huber&#x27;),\n",
       "                                                     cv=5)),\n",
       "                             (&#x27;knn&#x27;,\n",
       "                              CalibratedClassifierCV(base_estimator=KNeighborsClassifier(leaf_size=15,\n",
       "                                                                                         n_neighbors=10,\n",
       "                                                                                         weights=&#x27;distance&#x27;),\n",
       "                                                     cv=5))],\n",
       "                 voting=&#x27;soft&#x27;, weights=[2, 2, 1])</pre></div></div></div><div class=\"sk-serial\"><div class=\"sk-item sk-dashed-wrapped\"><div class=\"sk-parallel\"><div class=\"sk-parallel-item\"><div class=\"sk-item\"><div class=\"sk-label-container\"><div class=\"sk-label sk-toggleable\"><label>logistic_reg</label></div></div><div class=\"sk-serial\"><div class=\"sk-item\"><div class=\"sk-estimator sk-toggleable\"><input class=\"sk-toggleable__control sk-hidden--visually\" id=\"sk-estimator-id-21\" type=\"checkbox\" ><label for=\"sk-estimator-id-21\" class=\"sk-toggleable__label sk-toggleable__label-arrow\">SGDClassifier</label><div class=\"sk-toggleable__content\"><pre>SGDClassifier(alpha=0.019323822134521308, loss=&#x27;log_loss&#x27;)</pre></div></div></div></div></div></div><div class=\"sk-parallel-item\"><div class=\"sk-item\"><div class=\"sk-label-container\"><div class=\"sk-label sk-toggleable\"><label>huber_loss</label></div></div><div class=\"sk-serial\"><div class=\"sk-item sk-dashed-wrapped\"><div class=\"sk-parallel\"><div class=\"sk-parallel-item\"><div class=\"sk-item\"><div class=\"sk-label-container\"><div class=\"sk-label sk-toggleable\"><input class=\"sk-toggleable__control sk-hidden--visually\" id=\"sk-estimator-id-22\" type=\"checkbox\" ><label for=\"sk-estimator-id-22\" class=\"sk-toggleable__label sk-toggleable__label-arrow\">base_estimator: SGDClassifier</label><div class=\"sk-toggleable__content\"><pre>SGDClassifier(alpha=0.26007184302607766, loss=&#x27;modified_huber&#x27;)</pre></div></div></div><div class=\"sk-serial\"><div class=\"sk-item\"><div class=\"sk-estimator sk-toggleable\"><input class=\"sk-toggleable__control sk-hidden--visually\" id=\"sk-estimator-id-23\" type=\"checkbox\" ><label for=\"sk-estimator-id-23\" class=\"sk-toggleable__label sk-toggleable__label-arrow\">SGDClassifier</label><div class=\"sk-toggleable__content\"><pre>SGDClassifier(alpha=0.26007184302607766, loss=&#x27;modified_huber&#x27;)</pre></div></div></div></div></div></div></div></div></div></div></div><div class=\"sk-parallel-item\"><div class=\"sk-item\"><div class=\"sk-label-container\"><div class=\"sk-label sk-toggleable\"><label>knn</label></div></div><div class=\"sk-serial\"><div class=\"sk-item sk-dashed-wrapped\"><div class=\"sk-parallel\"><div class=\"sk-parallel-item\"><div class=\"sk-item\"><div class=\"sk-label-container\"><div class=\"sk-label sk-toggleable\"><input class=\"sk-toggleable__control sk-hidden--visually\" id=\"sk-estimator-id-24\" type=\"checkbox\" ><label for=\"sk-estimator-id-24\" class=\"sk-toggleable__label sk-toggleable__label-arrow\">base_estimator: KNeighborsClassifier</label><div class=\"sk-toggleable__content\"><pre>KNeighborsClassifier(leaf_size=15, n_neighbors=10, weights=&#x27;distance&#x27;)</pre></div></div></div><div class=\"sk-serial\"><div class=\"sk-item\"><div class=\"sk-estimator sk-toggleable\"><input class=\"sk-toggleable__control sk-hidden--visually\" id=\"sk-estimator-id-25\" type=\"checkbox\" ><label for=\"sk-estimator-id-25\" class=\"sk-toggleable__label sk-toggleable__label-arrow\">KNeighborsClassifier</label><div class=\"sk-toggleable__content\"><pre>KNeighborsClassifier(leaf_size=15, n_neighbors=10, weights=&#x27;distance&#x27;)</pre></div></div></div></div></div></div></div></div></div></div></div></div></div></div></div></div></div></div></div></div>"
      ],
      "text/plain": [
       "SelfTrainingClassifier(base_estimator=VotingClassifier(estimators=[('logistic_reg',\n",
       "                                                                    SGDClassifier(alpha=0.019323822134521308,\n",
       "                                                                                  loss='log_loss')),\n",
       "                                                                   ('huber_loss',\n",
       "                                                                    CalibratedClassifierCV(base_estimator=SGDClassifier(alpha=0.26007184302607766,\n",
       "                                                                                                                        loss='modified_huber'),\n",
       "                                                                                           cv=5)),\n",
       "                                                                   ('knn',\n",
       "                                                                    CalibratedClassifierCV(base_estimator=KNeighborsClassifier(leaf_size=15,\n",
       "                                                                                                                               n_neighbors=10,\n",
       "                                                                                                                               weights='distance'),\n",
       "                                                                                           cv=5))],\n",
       "                                                       voting='soft',\n",
       "                                                       weights=[2, 2, 1]))"
      ]
     },
     "execution_count": 40,
     "metadata": {},
     "output_type": "execute_result"
    }
   ],
   "source": [
    "self_training_model.fit(train_feats, train_labels)"
   ]
  },
  {
   "cell_type": "code",
   "execution_count": 43,
   "metadata": {},
   "outputs": [],
   "source": [
    "from sklearn.metrics import f1_score, balanced_accuracy_score"
   ]
  },
  {
   "cell_type": "code",
   "execution_count": 52,
   "metadata": {},
   "outputs": [],
   "source": [
    "from sklearn.metrics import confusion_matrix\n",
    "\n",
    "validation_pred = self_training_model.predict(validation_feats)\n",
    "\n",
    "# Get the confusion matrix\n",
    "cm = confusion_matrix(validation_labels, validation_pred)\n",
    "\n",
    "# We will store the results in a dictionary for easy access later\n",
    "per_class_accuracies = {}\n",
    "\n",
    "# Calculate the accuracy for each one of our classes\n",
    "for idx, cls in enumerate(['buildings', 'forest', 'glacier', 'mountain', 'sea', 'street']):\n",
    "    # True negatives are all the samples that are not our current GT class (not the current row) \n",
    "    # and were not predicted as the current class (not the current column)\n",
    "    true_negatives = np.sum(np.delete(np.delete(cm, idx, axis=0), idx, axis=1))\n",
    "    \n",
    "    # True positives are all the samples of our current GT class that were predicted as such\n",
    "    true_positives = cm[idx, idx]\n",
    "    \n",
    "    # The accuracy for the current class is ratio between correct predictions to all predictions\n",
    "    per_class_accuracies[cls] = (true_positives + true_negatives) / np.sum(cm)"
   ]
  },
  {
   "cell_type": "code",
   "execution_count": 53,
   "metadata": {},
   "outputs": [
    {
     "data": {
      "text/plain": [
       "{'buildings': 0.9796666666666667,\n",
       " 'forest': 0.9966666666666667,\n",
       " 'glacier': 0.9346666666666666,\n",
       " 'mountain': 0.9383333333333334,\n",
       " 'sea': 0.9786666666666667,\n",
       " 'street': 0.98}"
      ]
     },
     "execution_count": 53,
     "metadata": {},
     "output_type": "execute_result"
    }
   ],
   "source": [
    "per_class_accuracies"
   ]
  },
  {
   "cell_type": "code",
   "execution_count": 54,
   "metadata": {},
   "outputs": [
    {
     "data": {
      "text/plain": [
       "0.968"
      ]
     },
     "execution_count": 54,
     "metadata": {},
     "output_type": "execute_result"
    }
   ],
   "source": [
    "total = 0\n",
    "for acc in per_class_accuracies.values():\n",
    "    total += acc\n",
    "total /= len(per_class_accuracies)\n",
    "total"
   ]
  },
  {
   "attachments": {},
   "cell_type": "markdown",
   "metadata": {},
   "source": [
    "Repeat analysis but with ensemble without unlabeled data"
   ]
  },
  {
   "cell_type": "code",
   "execution_count": 48,
   "metadata": {},
   "outputs": [],
   "source": [
    "with open(\"../models/embedding_train.pickle\", \"rb\") as handle:\n",
    "    train_feats_sup = pickle.load(handle)\n",
    "\n",
    "with open(\"../models/embedding_validation.pickle\", \"rb\") as handle:\n",
    "    validation_feats_sup = pickle.load(handle)\n",
    "\n",
    "with open(\"../models/labels.pickle\", \"rb\") as handle:\n",
    "    labels_dict = pickle.load(handle)\n",
    "\n",
    "train_labels_sup = labels_dict[\"train\"]\n",
    "validation_labels_sup = labels_dict[\"validation\"]\n",
    "categories_sup = labels_dict[\"categorical\"]"
   ]
  },
  {
   "cell_type": "code",
   "execution_count": 49,
   "metadata": {},
   "outputs": [],
   "source": [
    "logreg = SGDClassifier(alpha=0.019323822134521308, loss='log_loss')\n",
    "huber = SGDClassifier(alpha=0.26007184302607766, loss='modified_huber')\n",
    "knn = KNeighborsClassifier(leaf_size=15, n_neighbors=10, weights='distance')\n",
    "\n",
    "models = [\n",
    "    logreg,\n",
    "    huber,\n",
    "    knn\n",
    "]\n",
    "\n",
    "names = [\"logistic_reg\", \"huber_loss\", \"knn\"]\n",
    "\n",
    "ensemble_model = VotingClassifier(estimators=list(zip(names, models)),\n",
    "                                  voting=\"soft\", weights=[2, 2, 1])"
   ]
  },
  {
   "cell_type": "code",
   "execution_count": 50,
   "metadata": {},
   "outputs": [
    {
     "data": {
      "text/html": [
       "<style>#sk-container-id-6 {color: black;background-color: white;}#sk-container-id-6 pre{padding: 0;}#sk-container-id-6 div.sk-toggleable {background-color: white;}#sk-container-id-6 label.sk-toggleable__label {cursor: pointer;display: block;width: 100%;margin-bottom: 0;padding: 0.3em;box-sizing: border-box;text-align: center;}#sk-container-id-6 label.sk-toggleable__label-arrow:before {content: \"▸\";float: left;margin-right: 0.25em;color: #696969;}#sk-container-id-6 label.sk-toggleable__label-arrow:hover:before {color: black;}#sk-container-id-6 div.sk-estimator:hover label.sk-toggleable__label-arrow:before {color: black;}#sk-container-id-6 div.sk-toggleable__content {max-height: 0;max-width: 0;overflow: hidden;text-align: left;background-color: #f0f8ff;}#sk-container-id-6 div.sk-toggleable__content pre {margin: 0.2em;color: black;border-radius: 0.25em;background-color: #f0f8ff;}#sk-container-id-6 input.sk-toggleable__control:checked~div.sk-toggleable__content {max-height: 200px;max-width: 100%;overflow: auto;}#sk-container-id-6 input.sk-toggleable__control:checked~label.sk-toggleable__label-arrow:before {content: \"▾\";}#sk-container-id-6 div.sk-estimator input.sk-toggleable__control:checked~label.sk-toggleable__label {background-color: #d4ebff;}#sk-container-id-6 div.sk-label input.sk-toggleable__control:checked~label.sk-toggleable__label {background-color: #d4ebff;}#sk-container-id-6 input.sk-hidden--visually {border: 0;clip: rect(1px 1px 1px 1px);clip: rect(1px, 1px, 1px, 1px);height: 1px;margin: -1px;overflow: hidden;padding: 0;position: absolute;width: 1px;}#sk-container-id-6 div.sk-estimator {font-family: monospace;background-color: #f0f8ff;border: 1px dotted black;border-radius: 0.25em;box-sizing: border-box;margin-bottom: 0.5em;}#sk-container-id-6 div.sk-estimator:hover {background-color: #d4ebff;}#sk-container-id-6 div.sk-parallel-item::after {content: \"\";width: 100%;border-bottom: 1px solid gray;flex-grow: 1;}#sk-container-id-6 div.sk-label:hover label.sk-toggleable__label {background-color: #d4ebff;}#sk-container-id-6 div.sk-serial::before {content: \"\";position: absolute;border-left: 1px solid gray;box-sizing: border-box;top: 0;bottom: 0;left: 50%;z-index: 0;}#sk-container-id-6 div.sk-serial {display: flex;flex-direction: column;align-items: center;background-color: white;padding-right: 0.2em;padding-left: 0.2em;position: relative;}#sk-container-id-6 div.sk-item {position: relative;z-index: 1;}#sk-container-id-6 div.sk-parallel {display: flex;align-items: stretch;justify-content: center;background-color: white;position: relative;}#sk-container-id-6 div.sk-item::before, #sk-container-id-6 div.sk-parallel-item::before {content: \"\";position: absolute;border-left: 1px solid gray;box-sizing: border-box;top: 0;bottom: 0;left: 50%;z-index: -1;}#sk-container-id-6 div.sk-parallel-item {display: flex;flex-direction: column;z-index: 1;position: relative;background-color: white;}#sk-container-id-6 div.sk-parallel-item:first-child::after {align-self: flex-end;width: 50%;}#sk-container-id-6 div.sk-parallel-item:last-child::after {align-self: flex-start;width: 50%;}#sk-container-id-6 div.sk-parallel-item:only-child::after {width: 0;}#sk-container-id-6 div.sk-dashed-wrapped {border: 1px dashed gray;margin: 0 0.4em 0.5em 0.4em;box-sizing: border-box;padding-bottom: 0.4em;background-color: white;}#sk-container-id-6 div.sk-label label {font-family: monospace;font-weight: bold;display: inline-block;line-height: 1.2em;}#sk-container-id-6 div.sk-label-container {text-align: center;}#sk-container-id-6 div.sk-container {/* jupyter's `normalize.less` sets `[hidden] { display: none; }` but bootstrap.min.css set `[hidden] { display: none !important; }` so we also need the `!important` here to be able to override the default hidden behavior on the sphinx rendered scikit-learn.org. See: https://github.com/scikit-learn/scikit-learn/issues/21755 */display: inline-block !important;position: relative;}#sk-container-id-6 div.sk-text-repr-fallback {display: none;}</style><div id=\"sk-container-id-6\" class=\"sk-top-container\"><div class=\"sk-text-repr-fallback\"><pre>VotingClassifier(estimators=[(&#x27;logistic_reg&#x27;,\n",
       "                              SGDClassifier(alpha=0.019323822134521308,\n",
       "                                            loss=&#x27;log_loss&#x27;)),\n",
       "                             (&#x27;huber_loss&#x27;,\n",
       "                              SGDClassifier(alpha=0.26007184302607766,\n",
       "                                            loss=&#x27;modified_huber&#x27;)),\n",
       "                             (&#x27;knn&#x27;,\n",
       "                              KNeighborsClassifier(leaf_size=15, n_neighbors=10,\n",
       "                                                   weights=&#x27;distance&#x27;))],\n",
       "                 voting=&#x27;soft&#x27;, weights=[2, 2, 1])</pre><b>In a Jupyter environment, please rerun this cell to show the HTML representation or trust the notebook. <br />On GitHub, the HTML representation is unable to render, please try loading this page with nbviewer.org.</b></div><div class=\"sk-container\" hidden><div class=\"sk-item sk-dashed-wrapped\"><div class=\"sk-label-container\"><div class=\"sk-label sk-toggleable\"><input class=\"sk-toggleable__control sk-hidden--visually\" id=\"sk-estimator-id-26\" type=\"checkbox\" ><label for=\"sk-estimator-id-26\" class=\"sk-toggleable__label sk-toggleable__label-arrow\">VotingClassifier</label><div class=\"sk-toggleable__content\"><pre>VotingClassifier(estimators=[(&#x27;logistic_reg&#x27;,\n",
       "                              SGDClassifier(alpha=0.019323822134521308,\n",
       "                                            loss=&#x27;log_loss&#x27;)),\n",
       "                             (&#x27;huber_loss&#x27;,\n",
       "                              SGDClassifier(alpha=0.26007184302607766,\n",
       "                                            loss=&#x27;modified_huber&#x27;)),\n",
       "                             (&#x27;knn&#x27;,\n",
       "                              KNeighborsClassifier(leaf_size=15, n_neighbors=10,\n",
       "                                                   weights=&#x27;distance&#x27;))],\n",
       "                 voting=&#x27;soft&#x27;, weights=[2, 2, 1])</pre></div></div></div><div class=\"sk-parallel\"><div class=\"sk-parallel-item\"><div class=\"sk-item\"><div class=\"sk-label-container\"><div class=\"sk-label sk-toggleable\"><label>logistic_reg</label></div></div><div class=\"sk-serial\"><div class=\"sk-item\"><div class=\"sk-estimator sk-toggleable\"><input class=\"sk-toggleable__control sk-hidden--visually\" id=\"sk-estimator-id-27\" type=\"checkbox\" ><label for=\"sk-estimator-id-27\" class=\"sk-toggleable__label sk-toggleable__label-arrow\">SGDClassifier</label><div class=\"sk-toggleable__content\"><pre>SGDClassifier(alpha=0.019323822134521308, loss=&#x27;log_loss&#x27;)</pre></div></div></div></div></div></div><div class=\"sk-parallel-item\"><div class=\"sk-item\"><div class=\"sk-label-container\"><div class=\"sk-label sk-toggleable\"><label>huber_loss</label></div></div><div class=\"sk-serial\"><div class=\"sk-item\"><div class=\"sk-estimator sk-toggleable\"><input class=\"sk-toggleable__control sk-hidden--visually\" id=\"sk-estimator-id-28\" type=\"checkbox\" ><label for=\"sk-estimator-id-28\" class=\"sk-toggleable__label sk-toggleable__label-arrow\">SGDClassifier</label><div class=\"sk-toggleable__content\"><pre>SGDClassifier(alpha=0.26007184302607766, loss=&#x27;modified_huber&#x27;)</pre></div></div></div></div></div></div><div class=\"sk-parallel-item\"><div class=\"sk-item\"><div class=\"sk-label-container\"><div class=\"sk-label sk-toggleable\"><label>knn</label></div></div><div class=\"sk-serial\"><div class=\"sk-item\"><div class=\"sk-estimator sk-toggleable\"><input class=\"sk-toggleable__control sk-hidden--visually\" id=\"sk-estimator-id-29\" type=\"checkbox\" ><label for=\"sk-estimator-id-29\" class=\"sk-toggleable__label sk-toggleable__label-arrow\">KNeighborsClassifier</label><div class=\"sk-toggleable__content\"><pre>KNeighborsClassifier(leaf_size=15, n_neighbors=10, weights=&#x27;distance&#x27;)</pre></div></div></div></div></div></div></div></div></div></div>"
      ],
      "text/plain": [
       "VotingClassifier(estimators=[('logistic_reg',\n",
       "                              SGDClassifier(alpha=0.019323822134521308,\n",
       "                                            loss='log_loss')),\n",
       "                             ('huber_loss',\n",
       "                              SGDClassifier(alpha=0.26007184302607766,\n",
       "                                            loss='modified_huber')),\n",
       "                             ('knn',\n",
       "                              KNeighborsClassifier(leaf_size=15, n_neighbors=10,\n",
       "                                                   weights='distance'))],\n",
       "                 voting='soft', weights=[2, 2, 1])"
      ]
     },
     "execution_count": 50,
     "metadata": {},
     "output_type": "execute_result"
    }
   ],
   "source": [
    "ensemble_model.fit(train_feats_sup, train_labels_sup)"
   ]
  },
  {
   "cell_type": "code",
   "execution_count": 55,
   "metadata": {},
   "outputs": [],
   "source": [
    "validation_pred_sup = ensemble_model.predict(validation_feats_sup)\n",
    "\n",
    "# Get the confusion matrix\n",
    "cm = confusion_matrix(validation_labels_sup, validation_pred_sup)\n",
    "\n",
    "# We will store the results in a dictionary for easy access later\n",
    "per_class_accuracies_sup = {}\n",
    "\n",
    "# Calculate the accuracy for each one of our classes\n",
    "for idx, cls in enumerate(['buildings', 'forest', 'glacier', 'mountain', 'sea', 'street']):\n",
    "    # True negatives are all the samples that are not our current GT class (not the current row) \n",
    "    # and were not predicted as the current class (not the current column)\n",
    "    true_negatives = np.sum(np.delete(np.delete(cm, idx, axis=0), idx, axis=1))\n",
    "    \n",
    "    # True positives are all the samples of our current GT class that were predicted as such\n",
    "    true_positives = cm[idx, idx]\n",
    "    \n",
    "    # The accuracy for the current class is ratio between correct predictions to all predictions\n",
    "    per_class_accuracies_sup[cls] = (true_positives + true_negatives) / np.sum(cm)"
   ]
  },
  {
   "cell_type": "code",
   "execution_count": 56,
   "metadata": {},
   "outputs": [
    {
     "data": {
      "text/plain": [
       "{'buildings': 0.9756666666666667,\n",
       " 'forest': 0.9963333333333333,\n",
       " 'glacier': 0.9363333333333334,\n",
       " 'mountain': 0.942,\n",
       " 'sea': 0.978,\n",
       " 'street': 0.979}"
      ]
     },
     "execution_count": 56,
     "metadata": {},
     "output_type": "execute_result"
    }
   ],
   "source": [
    "per_class_accuracies_sup"
   ]
  },
  {
   "cell_type": "code",
   "execution_count": 57,
   "metadata": {},
   "outputs": [
    {
     "data": {
      "text/plain": [
       "0.9678888888888889"
      ]
     },
     "execution_count": 57,
     "metadata": {},
     "output_type": "execute_result"
    }
   ],
   "source": [
    "total = 0\n",
    "for acc in per_class_accuracies_sup.values():\n",
    "    total += acc\n",
    "total /= len(per_class_accuracies_sup)\n",
    "total"
   ]
  },
  {
   "cell_type": "code",
   "execution_count": 65,
   "metadata": {},
   "outputs": [],
   "source": [
    "from sklearn.metrics import classification_report\n",
    "\n",
    "report_ensemble = classification_report(validation_labels, ensemble_model.predict(validation_feats), target_names=cats[1:])\n",
    "report_self_training = classification_report(validation_labels, self_training_model.predict(validation_feats), target_names=cats[1:])"
   ]
  },
  {
   "cell_type": "code",
   "execution_count": 66,
   "metadata": {},
   "outputs": [
    {
     "name": "stdout",
     "output_type": "stream",
     "text": [
      "              precision    recall  f1-score   support\n",
      "\n",
      "   buildings       0.90      0.94      0.92       437\n",
      "      forest       0.98      0.99      0.99       474\n",
      "     glacier       0.87      0.77      0.82       553\n",
      "    mountain       0.81      0.88      0.84       525\n",
      "         sea       0.94      0.94      0.94       510\n",
      "      street       0.95      0.93      0.94       501\n",
      "\n",
      "    accuracy                           0.90      3000\n",
      "   macro avg       0.91      0.91      0.91      3000\n",
      "weighted avg       0.90      0.90      0.90      3000\n",
      "\n"
     ]
    }
   ],
   "source": [
    "print(report_ensemble)"
   ]
  },
  {
   "cell_type": "code",
   "execution_count": 67,
   "metadata": {},
   "outputs": [
    {
     "name": "stdout",
     "output_type": "stream",
     "text": [
      "              precision    recall  f1-score   support\n",
      "\n",
      "   buildings       0.93      0.93      0.93       437\n",
      "      forest       0.98      1.00      0.99       474\n",
      "     glacier       0.89      0.74      0.81       553\n",
      "    mountain       0.78      0.90      0.84       525\n",
      "         sea       0.93      0.94      0.94       510\n",
      "      street       0.94      0.94      0.94       501\n",
      "\n",
      "    accuracy                           0.90      3000\n",
      "   macro avg       0.91      0.91      0.91      3000\n",
      "weighted avg       0.91      0.90      0.90      3000\n",
      "\n"
     ]
    }
   ],
   "source": [
    "print(report_self_training)"
   ]
  },
  {
   "attachments": {},
   "cell_type": "markdown",
   "metadata": {},
   "source": [
    "Explore more of self-training "
   ]
  },
  {
   "cell_type": "code",
   "execution_count": null,
   "metadata": {},
   "outputs": [],
   "source": []
  }
 ],
 "metadata": {
  "kernelspec": {
   "display_name": "apc-project",
   "language": "python",
   "name": "python3"
  },
  "language_info": {
   "codemirror_mode": {
    "name": "ipython",
    "version": 3
   },
   "file_extension": ".py",
   "mimetype": "text/x-python",
   "name": "python",
   "nbconvert_exporter": "python",
   "pygments_lexer": "ipython3",
   "version": "3.10.8"
  },
  "orig_nbformat": 4,
  "vscode": {
   "interpreter": {
    "hash": "1b6fecf262674c92f03e47c8fc19f0255723842d1c75d45d212a216e59554918"
   }
  }
 },
 "nbformat": 4,
 "nbformat_minor": 2
}
