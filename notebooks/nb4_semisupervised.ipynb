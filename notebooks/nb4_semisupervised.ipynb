{
 "cells": [
  {
   "cell_type": "code",
   "execution_count": 1,
   "metadata": {},
   "outputs": [
    {
     "name": "stderr",
     "output_type": "stream",
     "text": [
      "c:\\Users\\fcoel\\miniconda3\\envs\\apc-project\\lib\\site-packages\\scipy\\__init__.py:146: UserWarning: A NumPy version >=1.16.5 and <1.23.0 is required for this version of SciPy (detected version 1.23.4\n",
      "  warnings.warn(f\"A NumPy version >={np_minversion} and <{np_maxversion}\"\n"
     ]
    }
   ],
   "source": [
    "import os, glob, pickle\n",
    "\n",
    "import numpy as np\n",
    "import pandas as pd\n",
    "\n",
    "import matplotlib.pyplot as plt\n",
    "import seaborn as sns\n",
    "import seaborn_image as isns\n",
    "from PIL import Image\n",
    "\n",
    "## Feature extraction\n",
    "from keras_preprocessing.image import ImageDataGenerator\n",
    "import tensorflow as tf\n",
    "from tensorflow.keras.applications.resnet_v2 import ResNet50V2\n",
    "from keras.layers import Dense, Flatten, Input, Activation\n",
    "from tensorflow.keras.callbacks import ModelCheckpoint\n",
    "from tensorflow.keras import mixed_precision\n",
    "import IPython"
   ]
  },
  {
   "attachments": {},
   "cell_type": "markdown",
   "metadata": {},
   "source": [
    "First step is to generate embeddings for unlabelled data"
   ]
  },
  {
   "cell_type": "code",
   "execution_count": 42,
   "metadata": {},
   "outputs": [
    {
     "name": "stdout",
     "output_type": "stream",
     "text": [
      "Loading unlabelled data...\n",
      "Example: ../data/seg_pred\\10004.jpg\n",
      "Found 21335 validated image filenames belonging to 7 classes.\n",
      "Found 3000 validated image filenames belonging to 6 classes.\n"
     ]
    }
   ],
   "source": [
    "# Building Training and Validation Dataframes\n",
    "labels = ['buildings', 'forest', 'glacier', 'mountain', 'sea', 'street']\n",
    "\n",
    "def dataframer(base_dir, include_unlabelled=False):\n",
    "    path = []\n",
    "    label = []\n",
    "    for img_class in os.listdir(base_dir):\n",
    "        label_path = os.path.join(base_dir, img_class)\n",
    "        if img_class in labels:\n",
    "            for img in os.listdir(label_path):\n",
    "                path.append(os.path.join(label_path, img))\n",
    "                label.append(img_class)\n",
    "    \n",
    "    if include_unlabelled:\n",
    "        print(\"Loading unlabelled data...\")\n",
    "        c = 0\n",
    "        for tag in os.listdir(\"../data/seg_pred\"):\n",
    "\n",
    "            img_path = os.path.join(\"../data/seg_pred\", tag)\n",
    "\n",
    "            if c < 1:\n",
    "                print(f\"Example: {img_path}\")\n",
    "                c += 1\n",
    "\n",
    "            path.append(img_path)\n",
    "            label.append('-1') \n",
    "\n",
    "    img_data = pd.DataFrame({'Path': path, 'Label': label})\n",
    "    return img_data\n",
    "\n",
    "train_base_dir = \"../data/seg_train\"\n",
    "validation_base_dir = \"../data/seg_test\"\n",
    "\n",
    "train_img_data = dataframer(train_base_dir, include_unlabelled=True)\n",
    "validation_img_data = dataframer(validation_base_dir)\n",
    "\n",
    "target_size = (150, 150)\n",
    "\n",
    "\n",
    "def preprocessing(arr):\n",
    "    arr = tf.image.rgb_to_grayscale(arr)\n",
    "    arr = tf.image.resize(arr, target_size)\n",
    "    return arr\n",
    "\n",
    "# Data Augmentation\n",
    "train_datagen = ImageDataGenerator(\n",
    "    rescale = 1/255,\n",
    "    preprocessing_function=preprocessing\n",
    ")\n",
    "\n",
    "validation_datagen = ImageDataGenerator(\n",
    "    rescale = 1/255\n",
    ")\n",
    "\n",
    "# Generating Batches of the Augmented Data:\n",
    "batch_size = 360\n",
    "\n",
    "train_generator = train_datagen.flow_from_dataframe(\n",
    "    dataframe=train_img_data,\n",
    "    x_col=\"Path\",\n",
    "    y_col=\"Label\",\n",
    "    target_size=target_size,\n",
    "    batch_size=batch_size,\n",
    "    class_mode=\"categorical\",\n",
    "    subset=\"training\",\n",
    "    shuffle=False,\n",
    "    seed=10)\n",
    "\n",
    "validation_generator = validation_datagen.flow_from_dataframe(\n",
    "    dataframe=validation_img_data,\n",
    "    x_col=\"Path\",\n",
    "    y_col=\"Label\",\n",
    "    target_size=target_size,\n",
    "    batch_size=batch_size,\n",
    "    class_mode=\"categorical\",\n",
    "    shuffle=False)\n",
    "\n",
    "# Build Model\n",
    "resnet = ResNet50V2(include_top=False, pooling='avg')\n",
    "resnet.trainable = False # Let's start with frozen resnet weights and train just the dense\n",
    "\n",
    "# Compile the model\n",
    "resnet.compile(optimizer='adam', loss=\"categorical_crossentropy\", metrics=[\"accuracy\"])"
   ]
  },
  {
   "cell_type": "code",
   "execution_count": 43,
   "metadata": {},
   "outputs": [],
   "source": [
    "from sklearn import preprocessing\n",
    "\n",
    "le = preprocessing.LabelEncoder()\n",
    "train_labels = le.fit_transform(train_img_data[\"Label\"])\n",
    "validation_labels = le.transform(validation_img_data[\"Label\"])\n",
    "\n",
    "cats = le.inverse_transform([0, 1, 2, 3, 4, 5, 6])\n",
    "\n",
    "with open(\"../models/semisup_labels.pickle\", \"wb\") as handle:\n",
    "    labels = {\"train\": train_labels, \"validation\": validation_labels, \"categorical\": cats}\n",
    "    pickle.dump(labels, handle, protocol=pickle.HIGHEST_PROTOCOL)"
   ]
  },
  {
   "cell_type": "code",
   "execution_count": 44,
   "metadata": {},
   "outputs": [
    {
     "data": {
      "text/plain": [
       "array(['-1', 'buildings', 'forest', 'glacier', 'mountain', 'sea',\n",
       "       'street'], dtype=object)"
      ]
     },
     "execution_count": 44,
     "metadata": {},
     "output_type": "execute_result"
    }
   ],
   "source": [
    "cats"
   ]
  },
  {
   "cell_type": "code",
   "execution_count": 45,
   "metadata": {},
   "outputs": [
    {
     "name": "stdout",
     "output_type": "stream",
     "text": [
      "60/60 [==============================] - 331s 5s/step\n",
      "9/9 [==============================] - 45s 5s/step\n"
     ]
    }
   ],
   "source": [
    "def extract_features(model, data_gen):\n",
    "\n",
    "    features = model.predict(data_gen)\n",
    "\n",
    "    return features\n",
    "\n",
    "\n",
    "train_feats = extract_features(resnet, train_generator)\n",
    "validation_feats = extract_features(resnet, validation_generator)"
   ]
  },
  {
   "cell_type": "code",
   "execution_count": 46,
   "metadata": {},
   "outputs": [],
   "source": [
    "with open('../models/semisup_embedding_train.pickle', 'wb') as handle:\n",
    "    pickle.dump(train_feats, handle, protocol=pickle.HIGHEST_PROTOCOL)\n",
    "\n",
    "with open('../models/semisup_embedding_validation.pickle', 'wb') as handle:\n",
    "    pickle.dump(validation_feats, handle, protocol=pickle.HIGHEST_PROTOCOL)"
   ]
  },
  {
   "cell_type": "code",
   "execution_count": 47,
   "metadata": {},
   "outputs": [],
   "source": [
    "with open('../models/semisup_embedding_train.pickle', 'rb') as handle:\n",
    "    train_feats = pickle.load(handle)\n",
    "\n",
    "with open('../models/semisup_embedding_validation.pickle', 'rb') as handle:\n",
    "    validation_feats = pickle.load(handle)"
   ]
  },
  {
   "attachments": {},
   "cell_type": "markdown",
   "metadata": {},
   "source": [
    "The unlabelled images need to have a virtual label index of -1, as instructed by `sckit-learn`.\n",
    "\n",
    "At this point, we have all the embeddings stored (only need to load them with the above cell), but we still need to enforce above convetion on label values."
   ]
  },
  {
   "cell_type": "code",
   "execution_count": 48,
   "metadata": {},
   "outputs": [
    {
     "data": {
      "text/plain": [
       "(21335, 2048)"
      ]
     },
     "execution_count": 48,
     "metadata": {},
     "output_type": "execute_result"
    }
   ],
   "source": [
    "train_feats.shape"
   ]
  },
  {
   "cell_type": "code",
   "execution_count": 49,
   "metadata": {},
   "outputs": [
    {
     "data": {
      "text/plain": [
       "(21335,)"
      ]
     },
     "execution_count": 49,
     "metadata": {},
     "output_type": "execute_result"
    }
   ],
   "source": [
    "train_labels.shape"
   ]
  },
  {
   "cell_type": "code",
   "execution_count": 50,
   "metadata": {},
   "outputs": [
    {
     "data": {
      "text/plain": [
       "(3000, 2048)"
      ]
     },
     "execution_count": 50,
     "metadata": {},
     "output_type": "execute_result"
    }
   ],
   "source": [
    "validation_feats.shape"
   ]
  },
  {
   "cell_type": "code",
   "execution_count": 51,
   "metadata": {},
   "outputs": [
    {
     "data": {
      "text/plain": [
       "(3000,)"
      ]
     },
     "execution_count": 51,
     "metadata": {},
     "output_type": "execute_result"
    }
   ],
   "source": [
    "validation_labels.shape"
   ]
  },
  {
   "attachments": {},
   "cell_type": "markdown",
   "metadata": {},
   "source": [
    "Choose only same models used for ensemble:\n",
    "\n",
    "1. k-Nearest Neighbours\n",
    "2. Logistic Regression\n",
    "3. Huber Loss Classifier (SGD + Modified Hubber Loss)\n",
    "\n",
    "Apply probability calibration, as instructed in the API:\n",
    "- [Semi-supervised learning](https://scikit-learn.org/stable/modules/semi_supervised.html#id4)\n",
    "- [Probability calibration](https://scikit-learn.org/stable/modules/calibration.html#calibration)\n",
    "- [Probability calibration example](https://scikit-learn.org/stable/auto_examples/calibration/plot_calibration_multiclass.html#sphx-glr-auto-examples-calibration-plot-calibration-multiclass-py)"
   ]
  },
  {
   "cell_type": "code",
   "execution_count": null,
   "metadata": {},
   "outputs": [],
   "source": []
  }
 ],
 "metadata": {
  "kernelspec": {
   "display_name": "apc-project",
   "language": "python",
   "name": "python3"
  },
  "language_info": {
   "codemirror_mode": {
    "name": "ipython",
    "version": 3
   },
   "file_extension": ".py",
   "mimetype": "text/x-python",
   "name": "python",
   "nbconvert_exporter": "python",
   "pygments_lexer": "ipython3",
   "version": "3.10.8"
  },
  "orig_nbformat": 4,
  "vscode": {
   "interpreter": {
    "hash": "1b6fecf262674c92f03e47c8fc19f0255723842d1c75d45d212a216e59554918"
   }
  }
 },
 "nbformat": 4,
 "nbformat_minor": 2
}
