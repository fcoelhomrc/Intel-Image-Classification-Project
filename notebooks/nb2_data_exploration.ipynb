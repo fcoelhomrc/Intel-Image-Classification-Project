{
 "cells": [
  {
   "cell_type": "code",
   "execution_count": 30,
   "metadata": {},
   "outputs": [],
   "source": [
    "import os, glob, pickle\n",
    "\n",
    "import numpy as np\n",
    "import pandas as pd\n",
    "\n",
    "import matplotlib.pyplot as plt\n",
    "import seaborn as sns\n",
    "import seaborn_image as isns\n",
    "from PIL import Image\n",
    "\n",
    "import IPython"
   ]
  },
  {
   "attachments": {},
   "cell_type": "markdown",
   "metadata": {},
   "source": [
    "# Notebook description\n",
    "\n",
    "## Goal\n",
    "\n",
    "To explore and describe important statistics of the available data, which may offer insight on how to better train our models.\n"
   ]
  },
  {
   "cell_type": "code",
   "execution_count": 31,
   "metadata": {},
   "outputs": [],
   "source": [
    "# Building Training and Validation Dataframes\n",
    "labels = ['buildings', 'forest', 'glacier', 'mountain', 'sea', 'street']\n",
    "\n",
    "def dataframer(base_dir):\n",
    "    path = []\n",
    "    label = []\n",
    "    for img_class in os.listdir(base_dir):\n",
    "        label_path = os.path.join(base_dir, img_class)\n",
    "        if img_class in labels:\n",
    "            for img in os.listdir(label_path):\n",
    "                path.append(os.path.join(label_path, img))\n",
    "                label.append(img_class)\n",
    "    img_data = pd.DataFrame({'Path': path, 'Label': label})\n",
    "    return img_data\n",
    "\n",
    "train_base_dir = \"../data/seg_train\"\n",
    "validation_base_dir = \"../data/seg_test\"\n",
    "\n",
    "train_img_data = dataframer(train_base_dir)\n",
    "validation_img_data = dataframer(validation_base_dir)"
   ]
  },
  {
   "cell_type": "code",
   "execution_count": 32,
   "metadata": {},
   "outputs": [],
   "source": [
    "from sklearn import preprocessing\n",
    "\n",
    "def load_image_data(img_dataframe):\n",
    "    \"\"\" \n",
    "    input\n",
    "    img_dataframe: Dataframe containing two collumns\n",
    "        - Path: path for images\n",
    "        - Label: categorical labels\n",
    "    \"\"\"\n",
    "\n",
    "    data = []\n",
    "    for path in img_dataframe[\"Path\"]:\n",
    "        img = Image.open(path).resize((75, 75)).convert(\"L\" )\n",
    "        img_arr = (np.array(img) / 255).astype(np.float16)\n",
    "        data.append(img_arr.flatten())\n",
    "    data = np.stack(data)\n",
    "\n",
    "    le = preprocessing.LabelEncoder()\n",
    "    labels = le.fit_transform(img_dataframe[\"Label\"])\n",
    "    \n",
    "    return data, labels\n"
   ]
  },
  {
   "cell_type": "code",
   "execution_count": 33,
   "metadata": {},
   "outputs": [],
   "source": [
    "# Prepare data for training directly on images\n",
    "train_data, train_labels = load_image_data(train_img_data)\n",
    "validation_data, validation_labels = load_image_data(validation_img_data)"
   ]
  },
  {
   "cell_type": "code",
   "execution_count": 34,
   "metadata": {},
   "outputs": [],
   "source": [
    "train_counts = np.unique(train_labels, return_counts=True)\n",
    "complete_counts = np.unique(np.concatenate((train_labels, validation_labels)), return_counts=True)"
   ]
  },
  {
   "cell_type": "code",
   "execution_count": 35,
   "metadata": {},
   "outputs": [
    {
     "data": {
      "text/plain": [
       "array([0.15612085, 0.16182129, 0.17129828, 0.17899387, 0.16203506,\n",
       "       0.16973065])"
      ]
     },
     "execution_count": 35,
     "metadata": {},
     "output_type": "execute_result"
    }
   ],
   "source": [
    "train_freqs = train_counts[1]/train_counts[1].sum()\n",
    "train_freqs"
   ]
  },
  {
   "cell_type": "code",
   "execution_count": 36,
   "metadata": {},
   "outputs": [
    {
     "data": {
      "text/plain": [
       "array([0.15427968, 0.16114829, 0.17359399, 0.17829048, 0.16343783,\n",
       "       0.16924974])"
      ]
     },
     "execution_count": 36,
     "metadata": {},
     "output_type": "execute_result"
    }
   ],
   "source": [
    "complete_freqs = complete_counts[1]/complete_counts[1].sum()\n",
    "complete_freqs"
   ]
  },
  {
   "cell_type": "code",
   "execution_count": 37,
   "metadata": {},
   "outputs": [
    {
     "data": {
      "text/plain": [
       "array([0.011934  , 0.00417627, 0.01322461, 0.00394521, 0.00858291,\n",
       "       0.00284147])"
      ]
     },
     "execution_count": 37,
     "metadata": {},
     "output_type": "execute_result"
    }
   ],
   "source": [
    "# Compute train data skew with respect to complete statistics\n",
    "deviations = np.abs(complete_freqs - train_freqs)/complete_freqs\n",
    "deviations"
   ]
  },
  {
   "cell_type": "code",
   "execution_count": 38,
   "metadata": {},
   "outputs": [],
   "source": [
    "data_stats = np.vstack((train_freqs, complete_freqs, deviations)).T\n",
    "\n",
    "class_stats = pd.DataFrame(data=data_stats, index=labels, columns=[\"TrainFreq\", \"DataFreq\", \"Deviation\"])"
   ]
  },
  {
   "cell_type": "code",
   "execution_count": 39,
   "metadata": {},
   "outputs": [
    {
     "data": {
      "text/html": [
       "<div>\n",
       "<style scoped>\n",
       "    .dataframe tbody tr th:only-of-type {\n",
       "        vertical-align: middle;\n",
       "    }\n",
       "\n",
       "    .dataframe tbody tr th {\n",
       "        vertical-align: top;\n",
       "    }\n",
       "\n",
       "    .dataframe thead th {\n",
       "        text-align: right;\n",
       "    }\n",
       "</style>\n",
       "<table border=\"1\" class=\"dataframe\">\n",
       "  <thead>\n",
       "    <tr style=\"text-align: right;\">\n",
       "      <th></th>\n",
       "      <th>TrainFreq</th>\n",
       "      <th>DataFreq</th>\n",
       "      <th>Deviation</th>\n",
       "    </tr>\n",
       "  </thead>\n",
       "  <tbody>\n",
       "    <tr>\n",
       "      <th>buildings</th>\n",
       "      <td>15.6</td>\n",
       "      <td>15.4</td>\n",
       "      <td>1.2</td>\n",
       "    </tr>\n",
       "    <tr>\n",
       "      <th>forest</th>\n",
       "      <td>16.2</td>\n",
       "      <td>16.1</td>\n",
       "      <td>0.4</td>\n",
       "    </tr>\n",
       "    <tr>\n",
       "      <th>glacier</th>\n",
       "      <td>17.1</td>\n",
       "      <td>17.4</td>\n",
       "      <td>1.3</td>\n",
       "    </tr>\n",
       "    <tr>\n",
       "      <th>mountain</th>\n",
       "      <td>17.9</td>\n",
       "      <td>17.8</td>\n",
       "      <td>0.4</td>\n",
       "    </tr>\n",
       "    <tr>\n",
       "      <th>sea</th>\n",
       "      <td>16.2</td>\n",
       "      <td>16.3</td>\n",
       "      <td>0.9</td>\n",
       "    </tr>\n",
       "    <tr>\n",
       "      <th>street</th>\n",
       "      <td>17.0</td>\n",
       "      <td>16.9</td>\n",
       "      <td>0.3</td>\n",
       "    </tr>\n",
       "  </tbody>\n",
       "</table>\n",
       "</div>"
      ],
      "text/plain": [
       "           TrainFreq  DataFreq  Deviation\n",
       "buildings       15.6      15.4        1.2\n",
       "forest          16.2      16.1        0.4\n",
       "glacier         17.1      17.4        1.3\n",
       "mountain        17.9      17.8        0.4\n",
       "sea             16.2      16.3        0.9\n",
       "street          17.0      16.9        0.3"
      ]
     },
     "execution_count": 39,
     "metadata": {},
     "output_type": "execute_result"
    }
   ],
   "source": [
    "class_stats *= 100\n",
    "class_stats = class_stats.round(1)\n",
    "class_stats"
   ]
  },
  {
   "cell_type": "code",
   "execution_count": 40,
   "metadata": {},
   "outputs": [
    {
     "name": "stderr",
     "output_type": "stream",
     "text": [
      "C:\\Users\\fcoel\\AppData\\Local\\Temp\\ipykernel_21480\\4197987694.py:4: FutureWarning: In future versions `DataFrame.to_latex` is expected to utilise the base implementation of `Styler.to_latex` for formatting and rendering. The arguments signature may therefore change. It is recommended instead to use `DataFrame.style.to_latex` which also contains additional functionality.\n",
      "  txt = class_stats.to_latex()\n"
     ]
    }
   ],
   "source": [
    "name = \"imbalance_table.txt\"\n",
    "save_path = os.path.join(\"..\", \"models\", name)\n",
    "with open(save_path, \"w\") as file:\n",
    "    txt = class_stats.to_latex()\n",
    "    file.write(txt)\n",
    "    "
   ]
  },
  {
   "cell_type": "code",
   "execution_count": 41,
   "metadata": {},
   "outputs": [
    {
     "data": {
      "image/png": "[encoded data removed]",
      "text/plain": [
       "<Figure size 800x400 with 3 Axes>"
      ]
     },
     "metadata": {},
     "output_type": "display_data"
    }
   ],
   "source": [
    "fig, ax = plt.subplots(1, 3, figsize=(8, 4))\n",
    "\n",
    "for i, c in enumerate([\"red\", \"green\", \"blue\"]):\n",
    "    ca = ax[i]\n",
    "    for cls in range(6):\n",
    "        cls_img = train_data[train_labels == cls]\n",
    "        ca.hist(cls_img[..., i].flatten(), color=c, alpha=0.08*(cls+1), density=True, bins=50, zorder=-cls, label=labels[cls])\n",
    "    ca.legend()\n",
    "\n",
    "fig.tight_layout()\n",
    "    "
   ]
  },
  {
   "cell_type": "code",
   "execution_count": 42,
   "metadata": {},
   "outputs": [],
   "source": [
    "with open('../models/embedding_train.pickle', 'rb') as handle:\n",
    "    train_feats = pickle.load(handle)\n",
    "\n",
    "with open('../models/embedding_validation.pickle', 'rb') as handle:\n",
    "    validation_feats = pickle.load(handle)\n",
    "\n",
    "\n",
    "with open(\"../models/labels.pickle\", \"rb\") as handle:\n",
    "    # labels = {\"train\": train_labels, \"validation\": validation_labels, \"categorical\": cats}\n",
    "    embed_labels = pickle.load(handle)"
   ]
  },
  {
   "cell_type": "code",
   "execution_count": 81,
   "metadata": {},
   "outputs": [],
   "source": [
    "vals = []\n",
    "for cls in range(6):\n",
    "    feats = train_feats[embed_labels[\"train\"] == cls]\n",
    "    hist, bins = np.histogram(feats, bins=500)\n",
    "    vals.append(hist)\n",
    "vals = np.stack(vals)\n",
    "\n",
    "dataframe = pd.DataFrame(data=vals.T, columns=embed_labels[\"categorical\"])\n",
    "    "
   ]
  },
  {
   "cell_type": "code",
   "execution_count": 82,
   "metadata": {},
   "outputs": [
    {
     "data": {
      "text/plain": [
       "<AxesSubplot: >"
      ]
     },
     "execution_count": 82,
     "metadata": {},
     "output_type": "execute_result"
    },
    {
     "data": {
      "image/png": "[encoded data removed]",
      "text/plain": [
       "<Figure size 640x480 with 1 Axes>"
      ]
     },
     "metadata": {},
     "output_type": "display_data"
    }
   ],
   "source": [
    "sns.violinplot(data=dataframe)"
   ]
  }
 ],
 "metadata": {
  "kernelspec": {
   "display_name": "apc-project",
   "language": "python",
   "name": "python3"
  },
  "language_info": {
   "codemirror_mode": {
    "name": "ipython",
    "version": 3
   },
   "file_extension": ".py",
   "mimetype": "text/x-python",
   "name": "python",
   "nbconvert_exporter": "python",
   "pygments_lexer": "ipython3",
   "version": "3.10.8"
  },
  "orig_nbformat": 4,
  "vscode": {
   "interpreter": {
    "hash": "1b6fecf262674c92f03e47c8fc19f0255723842d1c75d45d212a216e59554918"
   }
  }
 },
 "nbformat": 4,
 "nbformat_minor": 2
}
