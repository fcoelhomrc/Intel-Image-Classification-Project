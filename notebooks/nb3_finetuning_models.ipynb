{
 "cells": [
  {
   "cell_type": "code",
   "execution_count": 1,
   "metadata": {},
   "outputs": [
    {
     "name": "stderr",
     "output_type": "stream",
     "text": [
      "c:\\Users\\fcoel\\miniconda3\\envs\\apc-project\\lib\\site-packages\\scipy\\__init__.py:146: UserWarning: A NumPy version >=1.16.5 and <1.23.0 is required for this version of SciPy (detected version 1.23.4\n",
      "  warnings.warn(f\"A NumPy version >={np_minversion} and <{np_maxversion}\"\n"
     ]
    }
   ],
   "source": [
    "import os, glob, pickle\n",
    "\n",
    "import numpy as np\n",
    "import pandas as pd\n",
    "\n",
    "import matplotlib.pyplot as plt\n",
    "import seaborn as sns\n",
    "import seaborn_image as isns\n",
    "from PIL import Image\n",
    "\n",
    "import IPython"
   ]
  },
  {
   "cell_type": "code",
   "execution_count": 10,
   "metadata": {},
   "outputs": [],
   "source": [
    "from sklearn.metrics import f1_score, balanced_accuracy_score\n",
    "\n",
    "from sklearn.model_selection import RandomizedSearchCV, GridSearchCV\n",
    "from scipy.stats import uniform\n",
    "\n",
    "from sklearn.linear_model import SGDClassifier\n",
    "from sklearn.neighbors import KNeighborsClassifier\n"
   ]
  },
  {
   "attachments": {},
   "cell_type": "markdown",
   "metadata": {},
   "source": [
    "# Notebook description\n",
    "\n",
    "## Goal\n",
    "\n",
    "For the 3 top-scoring models, we fine-tune them harder and build an ensemble with the results.\n",
    "\n",
    "## Methods\n",
    "\n",
    "For metrics, we will consider the \n",
    "\n",
    "- F1-score (per-class and micro-average)\n",
    "- Accuracy (per-class)\n",
    "- Balanced Accuracy\n"
   ]
  },
  {
   "cell_type": "code",
   "execution_count": 3,
   "metadata": {},
   "outputs": [],
   "source": [
    "with open(\"../models/embedding_train.pickle\", \"rb\") as handle:\n",
    "    train_feats = pickle.load(handle)\n",
    "\n",
    "with open(\"../models/embedding_validation.pickle\", \"rb\") as handle:\n",
    "    validation_feats = pickle.load(handle)\n",
    "\n",
    "with open(\"../models/labels.pickle\", \"rb\") as handle:\n",
    "    labels_dict = pickle.load(handle)"
   ]
  },
  {
   "cell_type": "code",
   "execution_count": 4,
   "metadata": {},
   "outputs": [],
   "source": [
    "train_labels = labels_dict[\"train\"]\n",
    "validation_labels = labels_dict[\"validation\"]\n",
    "categories = labels_dict[\"categorical\"]"
   ]
  },
  {
   "attachments": {},
   "cell_type": "markdown",
   "metadata": {},
   "source": [
    "### Instantiate models and define search space\n",
    "\n",
    "\n",
    "$$[0, 1] \\to [x, x+\\delta]$$\n",
    "\n",
    "$$\n",
    "[x, \\omega x] \\Rightarrow x + \\delta = \\omega x \\Rightarrow (\\omega - 1) x = \\delta \\Rightarrow \\omega = 1 + \\frac{\\delta}{x}\n",
    "$$"
   ]
  },
  {
   "cell_type": "code",
   "execution_count": 11,
   "metadata": {},
   "outputs": [],
   "source": [
    "##########\n",
    "sgd_log = SGDClassifier()\n",
    "\n",
    "sgd_log_params = {\n",
    "    \"loss\": [\"log_loss\"],\n",
    "    \"alpha\": uniform(loc=0.01, scale=(100-1)*0.01)\n",
    "}\n",
    "##########\n",
    "sgd_huber = SGDClassifier()\n",
    "\n",
    "sgd_huber_params = {\n",
    "    \"loss\": [\"modified_huber\"],\n",
    "    \"alpha\": uniform(loc=0.01, scale=(100-1)*0.01)\n",
    "}\n",
    "##########\n",
    "kNN = KNeighborsClassifier()\n",
    "\n",
    "kNN_params = {\n",
    "    \"n_neighbors\": [5, 10, 15, 20, 30, 40],\n",
    "    \"weights\": [\"uniform\", \"distance\"],\n",
    "    \"leaf_size\": [15, 30, 45]\n",
    "}\n",
    "##########\n",
    "\n",
    "# models = [sgd_log, sgd_huber]\n",
    "\n",
    "# model_params = [sgd_log_params, sgd_huber_params]\n",
    "\n",
    "\n",
    "models = [kNN]\n",
    "\n",
    "model_params = [kNN_params]"
   ]
  },
  {
   "cell_type": "code",
   "execution_count": 12,
   "metadata": {},
   "outputs": [
    {
     "name": "stdout",
     "output_type": "stream",
     "text": [
      "Fitting 5 folds for each of 36 candidates, totalling 180 fits\n",
      "[CV 1/5] END leaf_size=15, n_neighbors=5, weights=uniform;, score=0.847 total time=   3.1s\n",
      "[CV 2/5] END leaf_size=15, n_neighbors=5, weights=uniform;, score=0.864 total time=   2.4s\n",
      "[CV 3/5] END leaf_size=15, n_neighbors=5, weights=uniform;, score=0.855 total time=   2.4s\n",
      "[CV 4/5] END leaf_size=15, n_neighbors=5, weights=uniform;, score=0.840 total time=   2.5s\n",
      "[CV 5/5] END leaf_size=15, n_neighbors=5, weights=uniform;, score=0.856 total time=   2.6s\n",
      "[CV 1/5] END leaf_size=15, n_neighbors=5, weights=distance;, score=0.850 total time=   2.3s\n",
      "[CV 2/5] END leaf_size=15, n_neighbors=5, weights=distance;, score=0.868 total time=   2.6s\n",
      "[CV 3/5] END leaf_size=15, n_neighbors=5, weights=distance;, score=0.858 total time=   2.5s\n",
      "[CV 4/5] END leaf_size=15, n_neighbors=5, weights=distance;, score=0.844 total time=   2.6s\n",
      "[CV 5/5] END leaf_size=15, n_neighbors=5, weights=distance;, score=0.856 total time=   2.6s\n",
      "[CV 1/5] END leaf_size=15, n_neighbors=10, weights=uniform;, score=0.851 total time=   2.5s\n",
      "[CV 2/5] END leaf_size=15, n_neighbors=10, weights=uniform;, score=0.872 total time=   2.4s\n",
      "[CV 3/5] END leaf_size=15, n_neighbors=10, weights=uniform;, score=0.855 total time=   2.6s\n",
      "[CV 4/5] END leaf_size=15, n_neighbors=10, weights=uniform;, score=0.854 total time=   2.5s\n",
      "[CV 5/5] END leaf_size=15, n_neighbors=10, weights=uniform;, score=0.857 total time=   2.4s\n",
      "[CV 1/5] END leaf_size=15, n_neighbors=10, weights=distance;, score=0.853 total time=   2.6s\n",
      "[CV 2/5] END leaf_size=15, n_neighbors=10, weights=distance;, score=0.875 total time=   2.6s\n",
      "[CV 3/5] END leaf_size=15, n_neighbors=10, weights=distance;, score=0.860 total time=   2.4s\n",
      "[CV 4/5] END leaf_size=15, n_neighbors=10, weights=distance;, score=0.853 total time=   2.5s\n",
      "[CV 5/5] END leaf_size=15, n_neighbors=10, weights=distance;, score=0.862 total time=   2.6s\n",
      "[CV 1/5] END leaf_size=15, n_neighbors=15, weights=uniform;, score=0.852 total time=   2.2s\n",
      "[CV 2/5] END leaf_size=15, n_neighbors=15, weights=uniform;, score=0.871 total time=   2.3s\n",
      "[CV 3/5] END leaf_size=15, n_neighbors=15, weights=uniform;, score=0.854 total time=   2.5s\n",
      "[CV 4/5] END leaf_size=15, n_neighbors=15, weights=uniform;, score=0.856 total time=   2.2s\n",
      "[CV 5/5] END leaf_size=15, n_neighbors=15, weights=uniform;, score=0.857 total time=   2.4s\n",
      "[CV 1/5] END leaf_size=15, n_neighbors=15, weights=distance;, score=0.854 total time=   2.3s\n",
      "[CV 2/5] END leaf_size=15, n_neighbors=15, weights=distance;, score=0.875 total time=   2.2s\n",
      "[CV 3/5] END leaf_size=15, n_neighbors=15, weights=distance;, score=0.856 total time=   2.3s\n",
      "[CV 4/5] END leaf_size=15, n_neighbors=15, weights=distance;, score=0.857 total time=   2.2s\n",
      "[CV 5/5] END leaf_size=15, n_neighbors=15, weights=distance;, score=0.858 total time=   2.3s\n",
      "[CV 1/5] END leaf_size=15, n_neighbors=20, weights=uniform;, score=0.853 total time=   2.6s\n",
      "[CV 2/5] END leaf_size=15, n_neighbors=20, weights=uniform;, score=0.873 total time=   2.5s\n",
      "[CV 3/5] END leaf_size=15, n_neighbors=20, weights=uniform;, score=0.854 total time=   2.5s\n",
      "[CV 4/5] END leaf_size=15, n_neighbors=20, weights=uniform;, score=0.857 total time=   2.4s\n",
      "[CV 5/5] END leaf_size=15, n_neighbors=20, weights=uniform;, score=0.858 total time=   2.5s\n",
      "[CV 1/5] END leaf_size=15, n_neighbors=20, weights=distance;, score=0.854 total time=   2.4s\n",
      "[CV 2/5] END leaf_size=15, n_neighbors=20, weights=distance;, score=0.872 total time=   2.3s\n",
      "[CV 3/5] END leaf_size=15, n_neighbors=20, weights=distance;, score=0.856 total time=   2.6s\n",
      "[CV 4/5] END leaf_size=15, n_neighbors=20, weights=distance;, score=0.858 total time=   2.6s\n",
      "[CV 5/5] END leaf_size=15, n_neighbors=20, weights=distance;, score=0.860 total time=   2.7s\n",
      "[CV 1/5] END leaf_size=15, n_neighbors=30, weights=uniform;, score=0.855 total time=   2.4s\n",
      "[CV 2/5] END leaf_size=15, n_neighbors=30, weights=uniform;, score=0.874 total time=   2.5s\n",
      "[CV 3/5] END leaf_size=15, n_neighbors=30, weights=uniform;, score=0.851 total time=   2.9s\n",
      "[CV 4/5] END leaf_size=15, n_neighbors=30, weights=uniform;, score=0.857 total time=   2.4s\n",
      "[CV 5/5] END leaf_size=15, n_neighbors=30, weights=uniform;, score=0.858 total time=   2.6s\n",
      "[CV 1/5] END leaf_size=15, n_neighbors=30, weights=distance;, score=0.856 total time=   2.3s\n",
      "[CV 2/5] END leaf_size=15, n_neighbors=30, weights=distance;, score=0.873 total time=   2.2s\n",
      "[CV 3/5] END leaf_size=15, n_neighbors=30, weights=distance;, score=0.853 total time=   2.1s\n",
      "[CV 4/5] END leaf_size=15, n_neighbors=30, weights=distance;, score=0.856 total time=   2.1s\n",
      "[CV 5/5] END leaf_size=15, n_neighbors=30, weights=distance;, score=0.858 total time=   2.2s\n",
      "[CV 1/5] END leaf_size=15, n_neighbors=40, weights=uniform;, score=0.851 total time=   2.2s\n",
      "[CV 2/5] END leaf_size=15, n_neighbors=40, weights=uniform;, score=0.870 total time=   2.2s\n",
      "[CV 3/5] END leaf_size=15, n_neighbors=40, weights=uniform;, score=0.853 total time=   2.3s\n",
      "[CV 4/5] END leaf_size=15, n_neighbors=40, weights=uniform;, score=0.857 total time=   2.5s\n",
      "[CV 5/5] END leaf_size=15, n_neighbors=40, weights=uniform;, score=0.855 total time=   2.4s\n",
      "[CV 1/5] END leaf_size=15, n_neighbors=40, weights=distance;, score=0.852 total time=   2.5s\n",
      "[CV 2/5] END leaf_size=15, n_neighbors=40, weights=distance;, score=0.871 total time=   2.4s\n",
      "[CV 3/5] END leaf_size=15, n_neighbors=40, weights=distance;, score=0.852 total time=   2.3s\n",
      "[CV 4/5] END leaf_size=15, n_neighbors=40, weights=distance;, score=0.858 total time=   2.4s\n",
      "[CV 5/5] END leaf_size=15, n_neighbors=40, weights=distance;, score=0.855 total time=   2.6s\n",
      "[CV 1/5] END leaf_size=30, n_neighbors=5, weights=uniform;, score=0.847 total time=   2.4s\n",
      "[CV 2/5] END leaf_size=30, n_neighbors=5, weights=uniform;, score=0.864 total time=   2.4s\n",
      "[CV 3/5] END leaf_size=30, n_neighbors=5, weights=uniform;, score=0.855 total time=   2.3s\n",
      "[CV 4/5] END leaf_size=30, n_neighbors=5, weights=uniform;, score=0.840 total time=   2.4s\n",
      "[CV 5/5] END leaf_size=30, n_neighbors=5, weights=uniform;, score=0.856 total time=   2.4s\n",
      "[CV 1/5] END leaf_size=30, n_neighbors=5, weights=distance;, score=0.850 total time=   2.1s\n",
      "[CV 2/5] END leaf_size=30, n_neighbors=5, weights=distance;, score=0.868 total time=   2.2s\n",
      "[CV 3/5] END leaf_size=30, n_neighbors=5, weights=distance;, score=0.858 total time=   2.3s\n",
      "[CV 4/5] END leaf_size=30, n_neighbors=5, weights=distance;, score=0.844 total time=   2.2s\n",
      "[CV 5/5] END leaf_size=30, n_neighbors=5, weights=distance;, score=0.856 total time=   2.2s\n",
      "[CV 1/5] END leaf_size=30, n_neighbors=10, weights=uniform;, score=0.851 total time=   2.3s\n",
      "[CV 2/5] END leaf_size=30, n_neighbors=10, weights=uniform;, score=0.872 total time=   2.3s\n",
      "[CV 3/5] END leaf_size=30, n_neighbors=10, weights=uniform;, score=0.855 total time=   2.3s\n",
      "[CV 4/5] END leaf_size=30, n_neighbors=10, weights=uniform;, score=0.854 total time=   2.3s\n",
      "[CV 5/5] END leaf_size=30, n_neighbors=10, weights=uniform;, score=0.857 total time=   2.2s\n",
      "[CV 1/5] END leaf_size=30, n_neighbors=10, weights=distance;, score=0.853 total time=   2.2s\n",
      "[CV 2/5] END leaf_size=30, n_neighbors=10, weights=distance;, score=0.875 total time=   2.2s\n",
      "[CV 3/5] END leaf_size=30, n_neighbors=10, weights=distance;, score=0.860 total time=   2.2s\n",
      "[CV 4/5] END leaf_size=30, n_neighbors=10, weights=distance;, score=0.853 total time=   2.3s\n",
      "[CV 5/5] END leaf_size=30, n_neighbors=10, weights=distance;, score=0.862 total time=   2.3s\n",
      "[CV 1/5] END leaf_size=30, n_neighbors=15, weights=uniform;, score=0.852 total time=   2.3s\n",
      "[CV 2/5] END leaf_size=30, n_neighbors=15, weights=uniform;, score=0.871 total time=   2.2s\n",
      "[CV 3/5] END leaf_size=30, n_neighbors=15, weights=uniform;, score=0.854 total time=   2.2s\n",
      "[CV 4/5] END leaf_size=30, n_neighbors=15, weights=uniform;, score=0.856 total time=   2.2s\n",
      "[CV 5/5] END leaf_size=30, n_neighbors=15, weights=uniform;, score=0.857 total time=   2.3s\n",
      "[CV 1/5] END leaf_size=30, n_neighbors=15, weights=distance;, score=0.854 total time=   2.2s\n",
      "[CV 2/5] END leaf_size=30, n_neighbors=15, weights=distance;, score=0.875 total time=   2.6s\n",
      "[CV 3/5] END leaf_size=30, n_neighbors=15, weights=distance;, score=0.856 total time=   2.3s\n",
      "[CV 4/5] END leaf_size=30, n_neighbors=15, weights=distance;, score=0.857 total time=   2.3s\n",
      "[CV 5/5] END leaf_size=30, n_neighbors=15, weights=distance;, score=0.858 total time=   2.4s\n",
      "[CV 1/5] END leaf_size=30, n_neighbors=20, weights=uniform;, score=0.853 total time=   2.4s\n",
      "[CV 2/5] END leaf_size=30, n_neighbors=20, weights=uniform;, score=0.873 total time=   2.9s\n",
      "[CV 3/5] END leaf_size=30, n_neighbors=20, weights=uniform;, score=0.854 total time=   2.8s\n",
      "[CV 4/5] END leaf_size=30, n_neighbors=20, weights=uniform;, score=0.857 total time=   2.5s\n",
      "[CV 5/5] END leaf_size=30, n_neighbors=20, weights=uniform;, score=0.858 total time=   2.6s\n",
      "[CV 1/5] END leaf_size=30, n_neighbors=20, weights=distance;, score=0.854 total time=   2.2s\n",
      "[CV 2/5] END leaf_size=30, n_neighbors=20, weights=distance;, score=0.872 total time=   2.2s\n",
      "[CV 3/5] END leaf_size=30, n_neighbors=20, weights=distance;, score=0.856 total time=   2.3s\n",
      "[CV 4/5] END leaf_size=30, n_neighbors=20, weights=distance;, score=0.858 total time=   2.2s\n",
      "[CV 5/5] END leaf_size=30, n_neighbors=20, weights=distance;, score=0.860 total time=   2.3s\n",
      "[CV 1/5] END leaf_size=30, n_neighbors=30, weights=uniform;, score=0.855 total time=   2.5s\n",
      "[CV 2/5] END leaf_size=30, n_neighbors=30, weights=uniform;, score=0.874 total time=   2.9s\n",
      "[CV 3/5] END leaf_size=30, n_neighbors=30, weights=uniform;, score=0.851 total time=   2.4s\n",
      "[CV 4/5] END leaf_size=30, n_neighbors=30, weights=uniform;, score=0.857 total time=   2.9s\n",
      "[CV 5/5] END leaf_size=30, n_neighbors=30, weights=uniform;, score=0.858 total time=   2.9s\n",
      "[CV 1/5] END leaf_size=30, n_neighbors=30, weights=distance;, score=0.856 total time=   2.4s\n",
      "[CV 2/5] END leaf_size=30, n_neighbors=30, weights=distance;, score=0.873 total time=   2.5s\n",
      "[CV 3/5] END leaf_size=30, n_neighbors=30, weights=distance;, score=0.853 total time=   2.6s\n",
      "[CV 4/5] END leaf_size=30, n_neighbors=30, weights=distance;, score=0.856 total time=   2.5s\n",
      "[CV 5/5] END leaf_size=30, n_neighbors=30, weights=distance;, score=0.858 total time=   2.4s\n",
      "[CV 1/5] END leaf_size=30, n_neighbors=40, weights=uniform;, score=0.851 total time=   2.2s\n",
      "[CV 2/5] END leaf_size=30, n_neighbors=40, weights=uniform;, score=0.870 total time=   2.3s\n",
      "[CV 3/5] END leaf_size=30, n_neighbors=40, weights=uniform;, score=0.853 total time=   2.2s\n",
      "[CV 4/5] END leaf_size=30, n_neighbors=40, weights=uniform;, score=0.857 total time=   2.3s\n",
      "[CV 5/5] END leaf_size=30, n_neighbors=40, weights=uniform;, score=0.855 total time=   2.3s\n",
      "[CV 1/5] END leaf_size=30, n_neighbors=40, weights=distance;, score=0.852 total time=   2.3s\n",
      "[CV 2/5] END leaf_size=30, n_neighbors=40, weights=distance;, score=0.871 total time=   2.2s\n",
      "[CV 3/5] END leaf_size=30, n_neighbors=40, weights=distance;, score=0.852 total time=   2.3s\n",
      "[CV 4/5] END leaf_size=30, n_neighbors=40, weights=distance;, score=0.858 total time=   2.5s\n",
      "[CV 5/5] END leaf_size=30, n_neighbors=40, weights=distance;, score=0.855 total time=   2.2s\n",
      "[CV 1/5] END leaf_size=45, n_neighbors=5, weights=uniform;, score=0.847 total time=   2.2s\n",
      "[CV 2/5] END leaf_size=45, n_neighbors=5, weights=uniform;, score=0.864 total time=   2.2s\n",
      "[CV 3/5] END leaf_size=45, n_neighbors=5, weights=uniform;, score=0.855 total time=   2.3s\n",
      "[CV 4/5] END leaf_size=45, n_neighbors=5, weights=uniform;, score=0.840 total time=   2.2s\n",
      "[CV 5/5] END leaf_size=45, n_neighbors=5, weights=uniform;, score=0.856 total time=   2.5s\n",
      "[CV 1/5] END leaf_size=45, n_neighbors=5, weights=distance;, score=0.850 total time=   2.5s\n",
      "[CV 2/5] END leaf_size=45, n_neighbors=5, weights=distance;, score=0.868 total time=   2.4s\n",
      "[CV 3/5] END leaf_size=45, n_neighbors=5, weights=distance;, score=0.858 total time=   2.2s\n",
      "[CV 4/5] END leaf_size=45, n_neighbors=5, weights=distance;, score=0.844 total time=   2.2s\n",
      "[CV 5/5] END leaf_size=45, n_neighbors=5, weights=distance;, score=0.856 total time=   2.2s\n",
      "[CV 1/5] END leaf_size=45, n_neighbors=10, weights=uniform;, score=0.851 total time=   2.3s\n",
      "[CV 2/5] END leaf_size=45, n_neighbors=10, weights=uniform;, score=0.872 total time=   2.3s\n",
      "[CV 3/5] END leaf_size=45, n_neighbors=10, weights=uniform;, score=0.855 total time=   2.4s\n",
      "[CV 4/5] END leaf_size=45, n_neighbors=10, weights=uniform;, score=0.854 total time=   2.1s\n",
      "[CV 5/5] END leaf_size=45, n_neighbors=10, weights=uniform;, score=0.857 total time=   2.1s\n",
      "[CV 1/5] END leaf_size=45, n_neighbors=10, weights=distance;, score=0.853 total time=   1.9s\n",
      "[CV 2/5] END leaf_size=45, n_neighbors=10, weights=distance;, score=0.875 total time=   2.0s\n",
      "[CV 3/5] END leaf_size=45, n_neighbors=10, weights=distance;, score=0.860 total time=   1.9s\n",
      "[CV 4/5] END leaf_size=45, n_neighbors=10, weights=distance;, score=0.853 total time=   1.9s\n",
      "[CV 5/5] END leaf_size=45, n_neighbors=10, weights=distance;, score=0.862 total time=   1.9s\n",
      "[CV 1/5] END leaf_size=45, n_neighbors=15, weights=uniform;, score=0.852 total time=   1.9s\n",
      "[CV 2/5] END leaf_size=45, n_neighbors=15, weights=uniform;, score=0.871 total time=   2.0s\n",
      "[CV 3/5] END leaf_size=45, n_neighbors=15, weights=uniform;, score=0.854 total time=   1.9s\n",
      "[CV 4/5] END leaf_size=45, n_neighbors=15, weights=uniform;, score=0.856 total time=   2.0s\n",
      "[CV 5/5] END leaf_size=45, n_neighbors=15, weights=uniform;, score=0.857 total time=   2.0s\n",
      "[CV 1/5] END leaf_size=45, n_neighbors=15, weights=distance;, score=0.854 total time=   1.9s\n",
      "[CV 2/5] END leaf_size=45, n_neighbors=15, weights=distance;, score=0.875 total time=   1.9s\n",
      "[CV 3/5] END leaf_size=45, n_neighbors=15, weights=distance;, score=0.856 total time=   1.9s\n",
      "[CV 4/5] END leaf_size=45, n_neighbors=15, weights=distance;, score=0.857 total time=   2.0s\n",
      "[CV 5/5] END leaf_size=45, n_neighbors=15, weights=distance;, score=0.858 total time=   1.9s\n",
      "[CV 1/5] END leaf_size=45, n_neighbors=20, weights=uniform;, score=0.853 total time=   2.0s\n",
      "[CV 2/5] END leaf_size=45, n_neighbors=20, weights=uniform;, score=0.873 total time=   2.0s\n",
      "[CV 3/5] END leaf_size=45, n_neighbors=20, weights=uniform;, score=0.854 total time=   2.0s\n",
      "[CV 4/5] END leaf_size=45, n_neighbors=20, weights=uniform;, score=0.857 total time=   2.0s\n",
      "[CV 5/5] END leaf_size=45, n_neighbors=20, weights=uniform;, score=0.858 total time=   2.0s\n",
      "[CV 1/5] END leaf_size=45, n_neighbors=20, weights=distance;, score=0.854 total time=   2.3s\n",
      "[CV 2/5] END leaf_size=45, n_neighbors=20, weights=distance;, score=0.872 total time=   2.3s\n",
      "[CV 3/5] END leaf_size=45, n_neighbors=20, weights=distance;, score=0.856 total time=   2.4s\n",
      "[CV 4/5] END leaf_size=45, n_neighbors=20, weights=distance;, score=0.858 total time=   2.3s\n",
      "[CV 5/5] END leaf_size=45, n_neighbors=20, weights=distance;, score=0.860 total time=   2.3s\n",
      "[CV 1/5] END leaf_size=45, n_neighbors=30, weights=uniform;, score=0.855 total time=   2.3s\n",
      "[CV 2/5] END leaf_size=45, n_neighbors=30, weights=uniform;, score=0.874 total time=   2.3s\n",
      "[CV 3/5] END leaf_size=45, n_neighbors=30, weights=uniform;, score=0.851 total time=   2.3s\n",
      "[CV 4/5] END leaf_size=45, n_neighbors=30, weights=uniform;, score=0.857 total time=   2.2s\n",
      "[CV 5/5] END leaf_size=45, n_neighbors=30, weights=uniform;, score=0.858 total time=   2.3s\n",
      "[CV 1/5] END leaf_size=45, n_neighbors=30, weights=distance;, score=0.856 total time=   2.1s\n",
      "[CV 2/5] END leaf_size=45, n_neighbors=30, weights=distance;, score=0.873 total time=   2.5s\n",
      "[CV 3/5] END leaf_size=45, n_neighbors=30, weights=distance;, score=0.853 total time=   2.4s\n",
      "[CV 4/5] END leaf_size=45, n_neighbors=30, weights=distance;, score=0.856 total time=   2.3s\n",
      "[CV 5/5] END leaf_size=45, n_neighbors=30, weights=distance;, score=0.858 total time=   2.4s\n",
      "[CV 1/5] END leaf_size=45, n_neighbors=40, weights=uniform;, score=0.851 total time=   2.4s\n",
      "[CV 2/5] END leaf_size=45, n_neighbors=40, weights=uniform;, score=0.870 total time=   2.2s\n",
      "[CV 3/5] END leaf_size=45, n_neighbors=40, weights=uniform;, score=0.853 total time=   2.2s\n",
      "[CV 4/5] END leaf_size=45, n_neighbors=40, weights=uniform;, score=0.857 total time=   2.3s\n",
      "[CV 5/5] END leaf_size=45, n_neighbors=40, weights=uniform;, score=0.855 total time=   2.6s\n",
      "[CV 1/5] END leaf_size=45, n_neighbors=40, weights=distance;, score=0.852 total time=   2.5s\n",
      "[CV 2/5] END leaf_size=45, n_neighbors=40, weights=distance;, score=0.871 total time=   2.3s\n",
      "[CV 3/5] END leaf_size=45, n_neighbors=40, weights=distance;, score=0.852 total time=   2.4s\n",
      "[CV 4/5] END leaf_size=45, n_neighbors=40, weights=distance;, score=0.858 total time=   2.4s\n",
      "[CV 5/5] END leaf_size=45, n_neighbors=40, weights=distance;, score=0.855 total time=   2.5s\n"
     ]
    }
   ],
   "source": [
    "best_models = []\n",
    "best_params = []\n",
    "best_scores = []\n",
    "best_valid_scores = []\n",
    "\n",
    "for model, param in zip(models, model_params):\n",
    "\n",
    "    # cv = RandomizedSearchCV(model, param, n_iter=50, cv=5, scoring=\"balanced_accuracy\", verbose=3)\n",
    "    cv = GridSearchCV(model, param, cv=5, scoring=\"balanced_accuracy\", verbose=3)\n",
    "\n",
    "    search = cv.fit(train_feats, train_labels)\n",
    "\n",
    "    best_models.append(search.best_estimator_)\n",
    "    best_params.append(search.best_params_)\n",
    "    best_scores.append(search.best_score_)  \n",
    "\n",
    "    preds = search.best_estimator_.predict(validation_feats)\n",
    "    valid_score = balanced_accuracy_score(validation_labels, preds)\n",
    "    \n",
    "    best_valid_scores.append(valid_score) \n",
    "\n"
   ]
  },
  {
   "cell_type": "code",
   "execution_count": 13,
   "metadata": {},
   "outputs": [
    {
     "data": {
      "text/plain": [
       "([0.8607505210159321], [0.8596988792817664])"
      ]
     },
     "execution_count": 13,
     "metadata": {},
     "output_type": "execute_result"
    }
   ],
   "source": [
    "best_scores, best_valid_scores"
   ]
  },
  {
   "cell_type": "code",
   "execution_count": 14,
   "metadata": {},
   "outputs": [
    {
     "data": {
      "text/plain": [
       "[KNeighborsClassifier(leaf_size=15, n_neighbors=10, weights='distance')]"
      ]
     },
     "execution_count": 14,
     "metadata": {},
     "output_type": "execute_result"
    }
   ],
   "source": [
    "best_models"
   ]
  },
  {
   "cell_type": "code",
   "execution_count": 27,
   "metadata": {},
   "outputs": [],
   "source": [
    "from sklearn.ensemble import VotingClassifier\n",
    "\n",
    "models = [\n",
    "    SGDClassifier(alpha=0.019323822134521308, loss='log_loss'),\n",
    "    SGDClassifier(alpha=0.26007184302607766, loss='modified_huber'),\n",
    "    KNeighborsClassifier(leaf_size=15, n_neighbors=10, weights='distance')\n",
    "]\n",
    "\n",
    "names = [\"logistic_reg\", \"huber_loss\", \"knn\"]\n",
    "\n",
    "ensemble_model = VotingClassifier(estimators=list(zip(names, models)),\n",
    "                                  voting=\"soft\", weights=[2, 2, 1])"
   ]
  },
  {
   "cell_type": "code",
   "execution_count": 28,
   "metadata": {},
   "outputs": [
    {
     "data": {
      "text/html": [
       "<style>#sk-container-id-2 {color: black;background-color: white;}#sk-container-id-2 pre{padding: 0;}#sk-container-id-2 div.sk-toggleable {background-color: white;}#sk-container-id-2 label.sk-toggleable__label {cursor: pointer;display: block;width: 100%;margin-bottom: 0;padding: 0.3em;box-sizing: border-box;text-align: center;}#sk-container-id-2 label.sk-toggleable__label-arrow:before {content: \"▸\";float: left;margin-right: 0.25em;color: #696969;}#sk-container-id-2 label.sk-toggleable__label-arrow:hover:before {color: black;}#sk-container-id-2 div.sk-estimator:hover label.sk-toggleable__label-arrow:before {color: black;}#sk-container-id-2 div.sk-toggleable__content {max-height: 0;max-width: 0;overflow: hidden;text-align: left;background-color: #f0f8ff;}#sk-container-id-2 div.sk-toggleable__content pre {margin: 0.2em;color: black;border-radius: 0.25em;background-color: #f0f8ff;}#sk-container-id-2 input.sk-toggleable__control:checked~div.sk-toggleable__content {max-height: 200px;max-width: 100%;overflow: auto;}#sk-container-id-2 input.sk-toggleable__control:checked~label.sk-toggleable__label-arrow:before {content: \"▾\";}#sk-container-id-2 div.sk-estimator input.sk-toggleable__control:checked~label.sk-toggleable__label {background-color: #d4ebff;}#sk-container-id-2 div.sk-label input.sk-toggleable__control:checked~label.sk-toggleable__label {background-color: #d4ebff;}#sk-container-id-2 input.sk-hidden--visually {border: 0;clip: rect(1px 1px 1px 1px);clip: rect(1px, 1px, 1px, 1px);height: 1px;margin: -1px;overflow: hidden;padding: 0;position: absolute;width: 1px;}#sk-container-id-2 div.sk-estimator {font-family: monospace;background-color: #f0f8ff;border: 1px dotted black;border-radius: 0.25em;box-sizing: border-box;margin-bottom: 0.5em;}#sk-container-id-2 div.sk-estimator:hover {background-color: #d4ebff;}#sk-container-id-2 div.sk-parallel-item::after {content: \"\";width: 100%;border-bottom: 1px solid gray;flex-grow: 1;}#sk-container-id-2 div.sk-label:hover label.sk-toggleable__label {background-color: #d4ebff;}#sk-container-id-2 div.sk-serial::before {content: \"\";position: absolute;border-left: 1px solid gray;box-sizing: border-box;top: 0;bottom: 0;left: 50%;z-index: 0;}#sk-container-id-2 div.sk-serial {display: flex;flex-direction: column;align-items: center;background-color: white;padding-right: 0.2em;padding-left: 0.2em;position: relative;}#sk-container-id-2 div.sk-item {position: relative;z-index: 1;}#sk-container-id-2 div.sk-parallel {display: flex;align-items: stretch;justify-content: center;background-color: white;position: relative;}#sk-container-id-2 div.sk-item::before, #sk-container-id-2 div.sk-parallel-item::before {content: \"\";position: absolute;border-left: 1px solid gray;box-sizing: border-box;top: 0;bottom: 0;left: 50%;z-index: -1;}#sk-container-id-2 div.sk-parallel-item {display: flex;flex-direction: column;z-index: 1;position: relative;background-color: white;}#sk-container-id-2 div.sk-parallel-item:first-child::after {align-self: flex-end;width: 50%;}#sk-container-id-2 div.sk-parallel-item:last-child::after {align-self: flex-start;width: 50%;}#sk-container-id-2 div.sk-parallel-item:only-child::after {width: 0;}#sk-container-id-2 div.sk-dashed-wrapped {border: 1px dashed gray;margin: 0 0.4em 0.5em 0.4em;box-sizing: border-box;padding-bottom: 0.4em;background-color: white;}#sk-container-id-2 div.sk-label label {font-family: monospace;font-weight: bold;display: inline-block;line-height: 1.2em;}#sk-container-id-2 div.sk-label-container {text-align: center;}#sk-container-id-2 div.sk-container {/* jupyter's `normalize.less` sets `[hidden] { display: none; }` but bootstrap.min.css set `[hidden] { display: none !important; }` so we also need the `!important` here to be able to override the default hidden behavior on the sphinx rendered scikit-learn.org. See: https://github.com/scikit-learn/scikit-learn/issues/21755 */display: inline-block !important;position: relative;}#sk-container-id-2 div.sk-text-repr-fallback {display: none;}</style><div id=\"sk-container-id-2\" class=\"sk-top-container\"><div class=\"sk-text-repr-fallback\"><pre>VotingClassifier(estimators=[(&#x27;logistic_reg&#x27;,\n",
       "                              SGDClassifier(alpha=0.019323822134521308,\n",
       "                                            loss=&#x27;log_loss&#x27;)),\n",
       "                             (&#x27;huber_loss&#x27;,\n",
       "                              SGDClassifier(alpha=0.26007184302607766,\n",
       "                                            loss=&#x27;modified_huber&#x27;)),\n",
       "                             (&#x27;knn&#x27;,\n",
       "                              KNeighborsClassifier(leaf_size=15, n_neighbors=10,\n",
       "                                                   weights=&#x27;distance&#x27;))],\n",
       "                 voting=&#x27;soft&#x27;, weights=[2, 2, 1])</pre><b>In a Jupyter environment, please rerun this cell to show the HTML representation or trust the notebook. <br />On GitHub, the HTML representation is unable to render, please try loading this page with nbviewer.org.</b></div><div class=\"sk-container\" hidden><div class=\"sk-item sk-dashed-wrapped\"><div class=\"sk-label-container\"><div class=\"sk-label sk-toggleable\"><input class=\"sk-toggleable__control sk-hidden--visually\" id=\"sk-estimator-id-5\" type=\"checkbox\" ><label for=\"sk-estimator-id-5\" class=\"sk-toggleable__label sk-toggleable__label-arrow\">VotingClassifier</label><div class=\"sk-toggleable__content\"><pre>VotingClassifier(estimators=[(&#x27;logistic_reg&#x27;,\n",
       "                              SGDClassifier(alpha=0.019323822134521308,\n",
       "                                            loss=&#x27;log_loss&#x27;)),\n",
       "                             (&#x27;huber_loss&#x27;,\n",
       "                              SGDClassifier(alpha=0.26007184302607766,\n",
       "                                            loss=&#x27;modified_huber&#x27;)),\n",
       "                             (&#x27;knn&#x27;,\n",
       "                              KNeighborsClassifier(leaf_size=15, n_neighbors=10,\n",
       "                                                   weights=&#x27;distance&#x27;))],\n",
       "                 voting=&#x27;soft&#x27;, weights=[2, 2, 1])</pre></div></div></div><div class=\"sk-parallel\"><div class=\"sk-parallel-item\"><div class=\"sk-item\"><div class=\"sk-label-container\"><div class=\"sk-label sk-toggleable\"><label>logistic_reg</label></div></div><div class=\"sk-serial\"><div class=\"sk-item\"><div class=\"sk-estimator sk-toggleable\"><input class=\"sk-toggleable__control sk-hidden--visually\" id=\"sk-estimator-id-6\" type=\"checkbox\" ><label for=\"sk-estimator-id-6\" class=\"sk-toggleable__label sk-toggleable__label-arrow\">SGDClassifier</label><div class=\"sk-toggleable__content\"><pre>SGDClassifier(alpha=0.019323822134521308, loss=&#x27;log_loss&#x27;)</pre></div></div></div></div></div></div><div class=\"sk-parallel-item\"><div class=\"sk-item\"><div class=\"sk-label-container\"><div class=\"sk-label sk-toggleable\"><label>huber_loss</label></div></div><div class=\"sk-serial\"><div class=\"sk-item\"><div class=\"sk-estimator sk-toggleable\"><input class=\"sk-toggleable__control sk-hidden--visually\" id=\"sk-estimator-id-7\" type=\"checkbox\" ><label for=\"sk-estimator-id-7\" class=\"sk-toggleable__label sk-toggleable__label-arrow\">SGDClassifier</label><div class=\"sk-toggleable__content\"><pre>SGDClassifier(alpha=0.26007184302607766, loss=&#x27;modified_huber&#x27;)</pre></div></div></div></div></div></div><div class=\"sk-parallel-item\"><div class=\"sk-item\"><div class=\"sk-label-container\"><div class=\"sk-label sk-toggleable\"><label>knn</label></div></div><div class=\"sk-serial\"><div class=\"sk-item\"><div class=\"sk-estimator sk-toggleable\"><input class=\"sk-toggleable__control sk-hidden--visually\" id=\"sk-estimator-id-8\" type=\"checkbox\" ><label for=\"sk-estimator-id-8\" class=\"sk-toggleable__label sk-toggleable__label-arrow\">KNeighborsClassifier</label><div class=\"sk-toggleable__content\"><pre>KNeighborsClassifier(leaf_size=15, n_neighbors=10, weights=&#x27;distance&#x27;)</pre></div></div></div></div></div></div></div></div></div></div>"
      ],
      "text/plain": [
       "VotingClassifier(estimators=[('logistic_reg',\n",
       "                              SGDClassifier(alpha=0.019323822134521308,\n",
       "                                            loss='log_loss')),\n",
       "                             ('huber_loss',\n",
       "                              SGDClassifier(alpha=0.26007184302607766,\n",
       "                                            loss='modified_huber')),\n",
       "                             ('knn',\n",
       "                              KNeighborsClassifier(leaf_size=15, n_neighbors=10,\n",
       "                                                   weights='distance'))],\n",
       "                 voting='soft', weights=[2, 2, 1])"
      ]
     },
     "execution_count": 28,
     "metadata": {},
     "output_type": "execute_result"
    }
   ],
   "source": [
    "ensemble_model.fit(train_feats, train_labels)"
   ]
  },
  {
   "cell_type": "code",
   "execution_count": 29,
   "metadata": {},
   "outputs": [],
   "source": [
    "ensemble_preds = ensemble_model.predict(validation_feats)"
   ]
  },
  {
   "cell_type": "code",
   "execution_count": 30,
   "metadata": {},
   "outputs": [
    {
     "data": {
      "text/plain": [
       "0.906201956287838"
      ]
     },
     "execution_count": 30,
     "metadata": {},
     "output_type": "execute_result"
    }
   ],
   "source": [
    "balanced_accuracy_score(validation_labels, ensemble_preds)"
   ]
  },
  {
   "cell_type": "code",
   "execution_count": 31,
   "metadata": {},
   "outputs": [],
   "source": [
    "from sklearn.metrics import roc_curve, roc_auc_score, RocCurveDisplay\n",
    "from sklearn.preprocessing import LabelBinarizer"
   ]
  },
  {
   "cell_type": "code",
   "execution_count": 32,
   "metadata": {},
   "outputs": [
    {
     "name": "stdout",
     "output_type": "stream",
     "text": [
      "Evaluating model SGDClassifier(alpha=0.019323822134521308, loss='log_loss')\n",
      "Computing ROCs\n",
      "Computing other metrics\n",
      "Model: SGDClassifier(alpha=0.019323822134521308, loss='log_loss'), index: 0\n",
      "Evaluating model SGDClassifier(alpha=0.26007184302607766, loss='modified_huber')\n",
      "Computing ROCs\n",
      "Computing other metrics\n",
      "Model: SGDClassifier(alpha=0.26007184302607766, loss='modified_huber'), index: 1\n",
      "Evaluating model KNeighborsClassifier(leaf_size=15, n_neighbors=10, weights='distance')\n",
      "Computing ROCs\n",
      "Computing other metrics\n",
      "Model: KNeighborsClassifier(leaf_size=15, n_neighbors=10, weights='distance'), index: 2\n",
      "Evaluating model VotingClassifier(estimators=[('logistic_reg',\n",
      "                              SGDClassifier(alpha=0.019323822134521308,\n",
      "                                            loss='log_loss')),\n",
      "                             ('huber_loss',\n",
      "                              SGDClassifier(alpha=0.26007184302607766,\n",
      "                                            loss='modified_huber')),\n",
      "                             ('knn',\n",
      "                              KNeighborsClassifier(leaf_size=15, n_neighbors=10,\n",
      "                                                   weights='distance'))],\n",
      "                 voting='soft', weights=[2, 2, 1])\n",
      "Computing ROCs\n",
      "Computing other metrics\n",
      "Model: VotingClassifier(estimators=[('logistic_reg',\n",
      "                              SGDClassifier(alpha=0.019323822134521308,\n",
      "                                            loss='log_loss')),\n",
      "                             ('huber_loss',\n",
      "                              SGDClassifier(alpha=0.26007184302607766,\n",
      "                                            loss='modified_huber')),\n",
      "                             ('knn',\n",
      "                              KNeighborsClassifier(leaf_size=15, n_neighbors=10,\n",
      "                                                   weights='distance'))],\n",
      "                 voting='soft', weights=[2, 2, 1]), index: 3\n"
     ]
    }
   ],
   "source": [
    "my_results = {}\n",
    "\n",
    "\n",
    "for i, model in enumerate(models + [ensemble_model]):\n",
    "    print(f\"Evaluating model {model}\")\n",
    "    # Convert multiclass to One vs All\n",
    "    label_binarizer = LabelBinarizer().fit(train_labels)\n",
    "\n",
    "    # Convert train/validation labels\n",
    "    y_onehot_train = label_binarizer.transform(train_labels)\n",
    "    y_onehot_test = label_binarizer.transform(validation_labels)\n",
    "\n",
    "    # print(validation_labels.shape, y_onehot_test.shape)\n",
    "\n",
    "    print(f\"Computing ROCs\")\n",
    "    # Compute ROC curve for each class\n",
    "    fprs, tprs, trs = [], [], []\n",
    "    for class_of_interest in range(6):\n",
    "\n",
    "        class_id = np.flatnonzero(label_binarizer.classes_ == class_of_interest)[0]\n",
    "\n",
    "        # Fit model explicity with One-vs-All strategy\n",
    "        model.fit(train_feats, y_onehot_train[:, class_id])\n",
    "        # Make predictions\n",
    "        preds = model.predict(validation_feats)\n",
    "        scores = model.predict_proba(validation_feats)\n",
    "\n",
    "        # print(preds.shape, scores.shape, y_onehot_test.shape)\n",
    "\n",
    "        # Compute metrics\n",
    "        fpr, tpr, thresholds = roc_curve(y_onehot_test[:, class_id], scores[:, 1])\n",
    "\n",
    "        # Store results\n",
    "        fprs.append(fpr)\n",
    "        tprs.append(tpr)\n",
    "        trs.append(thresholds)\n",
    "\n",
    "\n",
    "    # Fit model using internal multiclass handling\n",
    "    model.fit(train_feats, train_labels)\n",
    "    # Make predictions\n",
    "    preds = model.predict(validation_feats)\n",
    "    scores = model.predict_proba(validation_feats)\n",
    "\n",
    "    # print(preds.shape, scores.shape)\n",
    "\n",
    "    print(f\"Computing other metrics\")\n",
    "\n",
    "    microf1 = f1_score(validation_labels, preds, average=\"micro\")\n",
    "    bal_acc = balanced_accuracy_score(validation_labels, preds)\n",
    "    auc = roc_auc_score(\n",
    "                    validation_labels,\n",
    "                    scores,\n",
    "                    multi_class=\"ovr\",\n",
    "                    average=\"macro\"\n",
    "    )\n",
    "\n",
    "\n",
    "    print(f\"Model: {model}, index: {i}\")\n",
    "\n",
    "    my_results[i] = {\"microf1\": microf1, \"bal_acc\": bal_acc, \"macro_avg_auc\": auc, \"fpr\": fprs, \"tpr\": tprs, \"thresholds\": trs}\n",
    "\n"
   ]
  },
  {
   "cell_type": "code",
   "execution_count": 76,
   "metadata": {},
   "outputs": [
    {
     "data": {
      "image/png": "[encoded data removed]",
      "text/plain": [
       "<Figure size 1200x800 with 6 Axes>"
      ]
     },
     "metadata": {},
     "output_type": "display_data"
    }
   ],
   "source": [
    "# Plot ROCs\n",
    "# my_results[i] = {\"microf1\": microf1, \"bal_acc\": bal_acc, \"macro_avg_auc\": auc, \"fpr\": fprs, \"tpr\": tprs, \"thresholds\": trs}\n",
    "\n",
    "\n",
    "names = [\"Logistic\", \"Huber\", \"kNN\", \"Ensemble\"]\n",
    "\n",
    "fig, ax = plt.subplots(2, 3, figsize=(12, 8))\n",
    "\n",
    "for i in range(4):\n",
    "\n",
    "    val = my_results[i]\n",
    "\n",
    "    fpr, tpr = val[\"fpr\"], val[\"tpr\"]\n",
    "\n",
    "    count = 0\n",
    "    for j in range(2):\n",
    "        for k in range(3):\n",
    "            ca = ax[j, k]\n",
    "            \n",
    "            ca.plot(fpr[count], tpr[count], label=names[i])\n",
    "            ca.plot([0, 1], [0, 1], ls=\"--\", c=\"lightgrey\", zorder=-5, alpha=0.6)\n",
    "\n",
    "            if count == 0:\n",
    "                ca.legend(fontsize=15)\n",
    "            ca.set_title(categories[count], fontsize=18)\n",
    "            ca.set_xticks([0, 1])\n",
    "            ca.set_yticks([0, 1])\n",
    "            ca.tick_params(labelsize=15)\n",
    "\n",
    "            count += 1\n",
    "\n",
    "    fig.tight_layout()\n",
    "\n",
    "    # fig.savefig(\"../images/roc_per_class_finetuned.png\", dpi=400)"
   ]
  },
  {
   "cell_type": "code",
   "execution_count": 77,
   "metadata": {},
   "outputs": [],
   "source": [
    "# my_results[i] = {\"microf1\": microf1, \"bal_acc\": bal_acc, \"macro_avg_auc\": auc, \"fpr\": fprs, \"tpr\": tprs, \"thresholds\": trs}\n",
    "\n",
    "names = [\"Logistic\", \"Huber\", \"kNN\", \"Ensemble\"]\n",
    "\n",
    "scores_full = []\n",
    "\n",
    "for i in range(4):\n",
    "\n",
    "    val = my_results[i]\n",
    "\n",
    "    scores = [val[\"microf1\"], val[\"bal_acc\"], val[\"macro_avg_auc\"]]\n",
    "\n",
    "    scores_full.append(scores)"
   ]
  },
  {
   "cell_type": "code",
   "execution_count": 81,
   "metadata": {},
   "outputs": [
    {
     "ename": "TypeError",
     "evalue": "DataFrame.__init__() got an unexpected keyword argument 'indexes'",
     "output_type": "error",
     "traceback": [
      "\u001b[1;31m---------------------------------------------------------------------------\u001b[0m",
      "\u001b[1;31mTypeError\u001b[0m                                 Traceback (most recent call last)",
      "Cell \u001b[1;32mIn[81], line 1\u001b[0m\n\u001b[1;32m----> 1\u001b[0m scores_df \u001b[39m=\u001b[39m pd\u001b[39m.\u001b[39;49mDataFrame(data\u001b[39m=\u001b[39;49mscores_full, indexes\u001b[39m=\u001b[39;49mnames, columns\u001b[39m=\u001b[39;49m[\u001b[39m\"\u001b[39;49m\u001b[39m\"\u001b[39;49m])\n",
      "\u001b[1;31mTypeError\u001b[0m: DataFrame.__init__() got an unexpected keyword argument 'indexes'"
     ]
    }
   ],
   "source": [
    "scores_df = pd.DataFrame(data=scores_full, index=names, columns=[\"Micro-averaged F1\", \"Balanced Accuracy\", \"Macro-averaged AUC\"])"
   ]
  },
  {
   "cell_type": "code",
   "execution_count": 79,
   "metadata": {},
   "outputs": [
    {
     "data": {
      "text/html": [
       "<div>\n",
       "<style scoped>\n",
       "    .dataframe tbody tr th:only-of-type {\n",
       "        vertical-align: middle;\n",
       "    }\n",
       "\n",
       "    .dataframe tbody tr th {\n",
       "        vertical-align: top;\n",
       "    }\n",
       "\n",
       "    .dataframe thead th {\n",
       "        text-align: right;\n",
       "    }\n",
       "</style>\n",
       "<table border=\"1\" class=\"dataframe\">\n",
       "  <thead>\n",
       "    <tr style=\"text-align: right;\">\n",
       "      <th></th>\n",
       "      <th>0</th>\n",
       "      <th>1</th>\n",
       "      <th>2</th>\n",
       "    </tr>\n",
       "  </thead>\n",
       "  <tbody>\n",
       "    <tr>\n",
       "      <th>0</th>\n",
       "      <td>0.907333</td>\n",
       "      <td>0.910449</td>\n",
       "      <td>0.989341</td>\n",
       "    </tr>\n",
       "    <tr>\n",
       "      <th>1</th>\n",
       "      <td>0.902000</td>\n",
       "      <td>0.905936</td>\n",
       "      <td>0.977801</td>\n",
       "    </tr>\n",
       "    <tr>\n",
       "      <th>2</th>\n",
       "      <td>0.854000</td>\n",
       "      <td>0.859699</td>\n",
       "      <td>0.979642</td>\n",
       "    </tr>\n",
       "    <tr>\n",
       "      <th>3</th>\n",
       "      <td>0.904000</td>\n",
       "      <td>0.907975</td>\n",
       "      <td>0.989484</td>\n",
       "    </tr>\n",
       "  </tbody>\n",
       "</table>\n",
       "</div>"
      ],
      "text/plain": [
       "          0         1         2\n",
       "0  0.907333  0.910449  0.989341\n",
       "1  0.902000  0.905936  0.977801\n",
       "2  0.854000  0.859699  0.979642\n",
       "3  0.904000  0.907975  0.989484"
      ]
     },
     "execution_count": 79,
     "metadata": {},
     "output_type": "execute_result"
    }
   ],
   "source": [
    "scores_df"
   ]
  },
  {
   "cell_type": "code",
   "execution_count": null,
   "metadata": {},
   "outputs": [],
   "source": []
  }
 ],
 "metadata": {
  "kernelspec": {
   "display_name": "apc-project",
   "language": "python",
   "name": "python3"
  },
  "language_info": {
   "codemirror_mode": {
    "name": "ipython",
    "version": 3
   },
   "file_extension": ".py",
   "mimetype": "text/x-python",
   "name": "python",
   "nbconvert_exporter": "python",
   "pygments_lexer": "ipython3",
   "version": "3.10.8"
  },
  "orig_nbformat": 4,
  "vscode": {
   "interpreter": {
    "hash": "1b6fecf262674c92f03e47c8fc19f0255723842d1c75d45d212a216e59554918"
   }
  }
 },
 "nbformat": 4,
 "nbformat_minor": 2
}
